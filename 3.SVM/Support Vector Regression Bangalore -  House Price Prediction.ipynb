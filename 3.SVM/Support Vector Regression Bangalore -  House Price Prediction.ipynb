{
 "cells": [
  {
   "cell_type": "markdown",
   "metadata": {
    "colab_type": "text",
    "id": "AYkmppyZOKP5"
   },
   "source": [
    "## 1. Business Problem - Predict the Price of Bangalore House"
   ]
  },
  {
   "cell_type": "markdown",
   "metadata": {
    "colab_type": "text",
    "id": "tPAvFzXhONiM"
   },
   "source": [
    "Using Support Vector Regression - Supervised Machine Learning Algorithm"
   ]
  },
  {
   "cell_type": "markdown",
   "metadata": {
    "colab_type": "text",
    "id": "iVgAcR9vOPoa"
   },
   "source": [
    "### Load Libraries"
   ]
  },
  {
   "cell_type": "code",
   "execution_count": 1,
   "metadata": {
    "colab": {},
    "colab_type": "code",
    "id": "6OFfuIN8NZAm"
   },
   "outputs": [],
   "source": [
    "import pandas as pd"
   ]
  },
  {
   "cell_type": "markdown",
   "metadata": {
    "colab_type": "text",
    "id": "jbe0WxOwRz17"
   },
   "source": [
    "### Load Data"
   ]
  },
  {
   "cell_type": "code",
   "execution_count": 2,
   "metadata": {
    "colab": {},
    "colab_type": "code",
    "id": "rnRIZJ4OR1Aa"
   },
   "outputs": [],
   "source": [
    "path = r\"https://drive.google.com/uc?export=download&id=1xxDtrZKfuWQfl-6KA9XEd_eatitNPnkB\" \n",
    "df = pd.read_csv(path)"
   ]
  },
  {
   "cell_type": "code",
   "execution_count": 3,
   "metadata": {
    "colab": {
     "base_uri": "https://localhost:8080/",
     "height": 287
    },
    "colab_type": "code",
    "executionInfo": {
     "elapsed": 1696,
     "status": "ok",
     "timestamp": 1593538227216,
     "user": {
      "displayName": "indian ai production",
      "photoUrl": "",
      "userId": "05336710603640792650"
     },
     "user_tz": -330
    },
    "id": "6jKsvT-sR4Ia",
    "outputId": "38c0ae80-957f-4b77-d3bb-582140fd42e6"
   },
   "outputs": [
    {
     "data": {
      "text/html": [
       "<div>\n",
       "<style scoped>\n",
       "    .dataframe tbody tr th:only-of-type {\n",
       "        vertical-align: middle;\n",
       "    }\n",
       "\n",
       "    .dataframe tbody tr th {\n",
       "        vertical-align: top;\n",
       "    }\n",
       "\n",
       "    .dataframe thead th {\n",
       "        text-align: right;\n",
       "    }\n",
       "</style>\n",
       "<table border=\"1\" class=\"dataframe\">\n",
       "  <thead>\n",
       "    <tr style=\"text-align: right;\">\n",
       "      <th></th>\n",
       "      <th>bath</th>\n",
       "      <th>balcony</th>\n",
       "      <th>price</th>\n",
       "      <th>total_sqft_int</th>\n",
       "      <th>bhk</th>\n",
       "      <th>price_per_sqft</th>\n",
       "      <th>area_typeSuper built-up  Area</th>\n",
       "      <th>area_typeBuilt-up  Area</th>\n",
       "      <th>area_typePlot  Area</th>\n",
       "      <th>availability_Ready To Move</th>\n",
       "      <th>...</th>\n",
       "      <th>location_Kalena Agrahara</th>\n",
       "      <th>location_Horamavu Agara</th>\n",
       "      <th>location_Vidyaranyapura</th>\n",
       "      <th>location_BTM 2nd Stage</th>\n",
       "      <th>location_Hebbal Kempapura</th>\n",
       "      <th>location_Hosur Road</th>\n",
       "      <th>location_Horamavu Banaswadi</th>\n",
       "      <th>location_Domlur</th>\n",
       "      <th>location_Mahadevpura</th>\n",
       "      <th>location_Tumkur Road</th>\n",
       "    </tr>\n",
       "  </thead>\n",
       "  <tbody>\n",
       "    <tr>\n",
       "      <th>0</th>\n",
       "      <td>3.0</td>\n",
       "      <td>2.0</td>\n",
       "      <td>150.0</td>\n",
       "      <td>1672.0</td>\n",
       "      <td>3</td>\n",
       "      <td>8971.291866</td>\n",
       "      <td>1</td>\n",
       "      <td>0</td>\n",
       "      <td>0</td>\n",
       "      <td>1</td>\n",
       "      <td>...</td>\n",
       "      <td>0</td>\n",
       "      <td>0</td>\n",
       "      <td>0</td>\n",
       "      <td>0</td>\n",
       "      <td>0</td>\n",
       "      <td>0</td>\n",
       "      <td>0</td>\n",
       "      <td>0</td>\n",
       "      <td>0</td>\n",
       "      <td>0</td>\n",
       "    </tr>\n",
       "    <tr>\n",
       "      <th>1</th>\n",
       "      <td>3.0</td>\n",
       "      <td>3.0</td>\n",
       "      <td>149.0</td>\n",
       "      <td>1750.0</td>\n",
       "      <td>3</td>\n",
       "      <td>8514.285714</td>\n",
       "      <td>0</td>\n",
       "      <td>1</td>\n",
       "      <td>0</td>\n",
       "      <td>1</td>\n",
       "      <td>...</td>\n",
       "      <td>0</td>\n",
       "      <td>0</td>\n",
       "      <td>0</td>\n",
       "      <td>0</td>\n",
       "      <td>0</td>\n",
       "      <td>0</td>\n",
       "      <td>0</td>\n",
       "      <td>0</td>\n",
       "      <td>0</td>\n",
       "      <td>0</td>\n",
       "    </tr>\n",
       "    <tr>\n",
       "      <th>2</th>\n",
       "      <td>3.0</td>\n",
       "      <td>2.0</td>\n",
       "      <td>150.0</td>\n",
       "      <td>1750.0</td>\n",
       "      <td>3</td>\n",
       "      <td>8571.428571</td>\n",
       "      <td>1</td>\n",
       "      <td>0</td>\n",
       "      <td>0</td>\n",
       "      <td>1</td>\n",
       "      <td>...</td>\n",
       "      <td>0</td>\n",
       "      <td>0</td>\n",
       "      <td>0</td>\n",
       "      <td>0</td>\n",
       "      <td>0</td>\n",
       "      <td>0</td>\n",
       "      <td>0</td>\n",
       "      <td>0</td>\n",
       "      <td>0</td>\n",
       "      <td>0</td>\n",
       "    </tr>\n",
       "    <tr>\n",
       "      <th>3</th>\n",
       "      <td>2.0</td>\n",
       "      <td>2.0</td>\n",
       "      <td>40.0</td>\n",
       "      <td>1250.0</td>\n",
       "      <td>2</td>\n",
       "      <td>3200.000000</td>\n",
       "      <td>1</td>\n",
       "      <td>0</td>\n",
       "      <td>0</td>\n",
       "      <td>1</td>\n",
       "      <td>...</td>\n",
       "      <td>0</td>\n",
       "      <td>0</td>\n",
       "      <td>0</td>\n",
       "      <td>0</td>\n",
       "      <td>0</td>\n",
       "      <td>0</td>\n",
       "      <td>0</td>\n",
       "      <td>0</td>\n",
       "      <td>0</td>\n",
       "      <td>0</td>\n",
       "    </tr>\n",
       "    <tr>\n",
       "      <th>4</th>\n",
       "      <td>2.0</td>\n",
       "      <td>2.0</td>\n",
       "      <td>83.0</td>\n",
       "      <td>1200.0</td>\n",
       "      <td>2</td>\n",
       "      <td>6916.666667</td>\n",
       "      <td>0</td>\n",
       "      <td>0</td>\n",
       "      <td>1</td>\n",
       "      <td>1</td>\n",
       "      <td>...</td>\n",
       "      <td>0</td>\n",
       "      <td>0</td>\n",
       "      <td>0</td>\n",
       "      <td>0</td>\n",
       "      <td>0</td>\n",
       "      <td>0</td>\n",
       "      <td>0</td>\n",
       "      <td>0</td>\n",
       "      <td>0</td>\n",
       "      <td>0</td>\n",
       "    </tr>\n",
       "  </tbody>\n",
       "</table>\n",
       "<p>5 rows × 108 columns</p>\n",
       "</div>"
      ],
      "text/plain": [
       "   bath  balcony  price  total_sqft_int  bhk  price_per_sqft  \\\n",
       "0   3.0      2.0  150.0          1672.0    3     8971.291866   \n",
       "1   3.0      3.0  149.0          1750.0    3     8514.285714   \n",
       "2   3.0      2.0  150.0          1750.0    3     8571.428571   \n",
       "3   2.0      2.0   40.0          1250.0    2     3200.000000   \n",
       "4   2.0      2.0   83.0          1200.0    2     6916.666667   \n",
       "\n",
       "   area_typeSuper built-up  Area  area_typeBuilt-up  Area  \\\n",
       "0                              1                        0   \n",
       "1                              0                        1   \n",
       "2                              1                        0   \n",
       "3                              1                        0   \n",
       "4                              0                        0   \n",
       "\n",
       "   area_typePlot  Area  availability_Ready To Move  ...  \\\n",
       "0                    0                           1  ...   \n",
       "1                    0                           1  ...   \n",
       "2                    0                           1  ...   \n",
       "3                    0                           1  ...   \n",
       "4                    1                           1  ...   \n",
       "\n",
       "   location_Kalena Agrahara  location_Horamavu Agara  location_Vidyaranyapura  \\\n",
       "0                         0                        0                        0   \n",
       "1                         0                        0                        0   \n",
       "2                         0                        0                        0   \n",
       "3                         0                        0                        0   \n",
       "4                         0                        0                        0   \n",
       "\n",
       "   location_BTM 2nd Stage  location_Hebbal Kempapura  location_Hosur Road  \\\n",
       "0                       0                          0                    0   \n",
       "1                       0                          0                    0   \n",
       "2                       0                          0                    0   \n",
       "3                       0                          0                    0   \n",
       "4                       0                          0                    0   \n",
       "\n",
       "   location_Horamavu Banaswadi  location_Domlur  location_Mahadevpura  \\\n",
       "0                            0                0                     0   \n",
       "1                            0                0                     0   \n",
       "2                            0                0                     0   \n",
       "3                            0                0                     0   \n",
       "4                            0                0                     0   \n",
       "\n",
       "   location_Tumkur Road  \n",
       "0                     0  \n",
       "1                     0  \n",
       "2                     0  \n",
       "3                     0  \n",
       "4                     0  \n",
       "\n",
       "[5 rows x 108 columns]"
      ]
     },
     "execution_count": 3,
     "metadata": {},
     "output_type": "execute_result"
    }
   ],
   "source": [
    "df.head()"
   ]
  },
  {
   "cell_type": "markdown",
   "metadata": {
    "colab_type": "text",
    "id": "lEBwba-QSFeh"
   },
   "source": [
    "## Split Data"
   ]
  },
  {
   "cell_type": "code",
   "execution_count": 4,
   "metadata": {
    "colab": {
     "base_uri": "https://localhost:8080/",
     "height": 51
    },
    "colab_type": "code",
    "executionInfo": {
     "elapsed": 992,
     "status": "ok",
     "timestamp": 1593538301771,
     "user": {
      "displayName": "indian ai production",
      "photoUrl": "",
      "userId": "05336710603640792650"
     },
     "user_tz": -330
    },
    "id": "mV6cx09RR6M5",
    "outputId": "193fed51-bbe4-49d9-e666-b1f55e9afd35"
   },
   "outputs": [
    {
     "name": "stdout",
     "output_type": "stream",
     "text": [
      "Shape of X =  (7120, 107)\n",
      "Shape of y =  (7120,)\n"
     ]
    }
   ],
   "source": [
    "X = df.drop('price', axis=1)\n",
    "y = df['price']\n",
    "\n",
    "print('Shape of X = ', X.shape)\n",
    "print('Shape of y = ', y.shape)"
   ]
  },
  {
   "cell_type": "code",
   "execution_count": 5,
   "metadata": {
    "colab": {
     "base_uri": "https://localhost:8080/",
     "height": 85
    },
    "colab_type": "code",
    "executionInfo": {
     "elapsed": 1594,
     "status": "ok",
     "timestamp": 1593538331301,
     "user": {
      "displayName": "indian ai production",
      "photoUrl": "",
      "userId": "05336710603640792650"
     },
     "user_tz": -330
    },
    "id": "-i7dvnHtSMrQ",
    "outputId": "b0067b39-3762-4e9b-d283-461ad37a40eb"
   },
   "outputs": [
    {
     "name": "stdout",
     "output_type": "stream",
     "text": [
      "Shape of X_train =  (5696, 107)\n",
      "Shape of y_train =  (5696,)\n",
      "Shape of X_test =  (1424, 107)\n",
      "Shape of y_test =  (1424,)\n"
     ]
    }
   ],
   "source": [
    "from sklearn.model_selection import train_test_split\n",
    "X_train, X_test, y_train, y_test = train_test_split(X, y, test_size=0.2, random_state=51)\n",
    "\n",
    "print('Shape of X_train = ', X_train.shape)\n",
    "print('Shape of y_train = ', y_train.shape)\n",
    "print('Shape of X_test = ', X_test.shape)\n",
    "print('Shape of y_test = ', y_test.shape)"
   ]
  },
  {
   "cell_type": "markdown",
   "metadata": {
    "colab_type": "text",
    "id": "nLdC5mQ4SV3I"
   },
   "source": [
    "## Feature Scaling"
   ]
  },
  {
   "cell_type": "code",
   "execution_count": 6,
   "metadata": {
    "colab": {},
    "colab_type": "code",
    "id": "2uWYvJnSSTu3"
   },
   "outputs": [],
   "source": [
    "from sklearn.preprocessing import StandardScaler\n",
    "sc = StandardScaler()\n",
    "sc.fit(X_train)\n",
    "X_train = sc.transform(X_train)\n",
    "X_test = sc.transform(X_test)"
   ]
  },
  {
   "cell_type": "markdown",
   "metadata": {
    "colab_type": "text",
    "id": "j6ExhwTGSg8r"
   },
   "source": [
    "## Support Vector Regression - ML Model Training"
   ]
  },
  {
   "cell_type": "code",
   "execution_count": 7,
   "metadata": {
    "colab": {},
    "colab_type": "code",
    "id": "o_R64HDfStyy"
   },
   "outputs": [],
   "source": [
    "from sklearn.svm import SVR"
   ]
  },
  {
   "cell_type": "code",
   "execution_count": 8,
   "metadata": {
    "colab": {
     "base_uri": "https://localhost:8080/",
     "height": 34
    },
    "colab_type": "code",
    "executionInfo": {
     "elapsed": 10232,
     "status": "ok",
     "timestamp": 1593538667209,
     "user": {
      "displayName": "indian ai production",
      "photoUrl": "",
      "userId": "05336710603640792650"
     },
     "user_tz": -330
    },
    "id": "ZqxWYWwxS44J",
    "outputId": "da67cb1e-ce2a-4339-adf2-6d2243e4302c"
   },
   "outputs": [
    {
     "data": {
      "text/plain": [
       "0.20638035840828173"
      ]
     },
     "execution_count": 8,
     "metadata": {},
     "output_type": "execute_result"
    }
   ],
   "source": [
    "svr_rbf = SVR(kernel='rbf')  # use differen kernal\n",
    "svr_rbf.fit(X_train, y_train)\n",
    "svr_rbf.score(X_test, y_test)  # Accuracy"
   ]
  },
  {
   "cell_type": "code",
   "execution_count": 9,
   "metadata": {
    "colab": {
     "base_uri": "https://localhost:8080/",
     "height": 34
    },
    "colab_type": "code",
    "executionInfo": {
     "elapsed": 9618,
     "status": "ok",
     "timestamp": 1593538733775,
     "user": {
      "displayName": "indian ai production",
      "photoUrl": "",
      "userId": "05336710603640792650"
     },
     "user_tz": -330
    },
    "id": "JmZm90DsTjni",
    "outputId": "3793174c-43e9-4955-ba3f-dda4d258adfb"
   },
   "outputs": [
    {
     "data": {
      "text/plain": [
       "0.7962681111981448"
      ]
     },
     "execution_count": 9,
     "metadata": {},
     "output_type": "execute_result"
    }
   ],
   "source": [
    "svr_linear = SVR(kernel='linear')\n",
    "svr_linear.fit(X_train, y_train)\n",
    "svr_linear.score(X_test, y_test)  # Accuracy"
   ]
  },
  {
   "cell_type": "code",
   "execution_count": 10,
   "metadata": {
    "colab": {
     "base_uri": "https://localhost:8080/",
     "height": 34
    },
    "colab_type": "code",
    "executionInfo": {
     "elapsed": 8633,
     "status": "ok",
     "timestamp": 1593538836496,
     "user": {
      "displayName": "indian ai production",
      "photoUrl": "",
      "userId": "05336710603640792650"
     },
     "user_tz": -330
    },
    "id": "NImOJjhZT0BD",
    "outputId": "0f9da76d-fb5b-4515-d533-442640d12e7a"
   },
   "outputs": [
    {
     "data": {
      "text/plain": [
       "0.18266215211874637"
      ]
     },
     "execution_count": 10,
     "metadata": {},
     "output_type": "execute_result"
    }
   ],
   "source": [
    "svr_poly = SVR(kernel='poly',degree=2,)\n",
    "svr_poly.fit(X_train, y_train)\n",
    "svr_poly.score(X_test, y_test)   # Accuracy"
   ]
  },
  {
   "cell_type": "markdown",
   "metadata": {
    "colab_type": "text",
    "id": "X69LSuUGUe4q"
   },
   "source": [
    "## Predict the value of Home and Test"
   ]
  },
  {
   "cell_type": "code",
   "execution_count": 11,
   "metadata": {
    "colab": {
     "base_uri": "https://localhost:8080/",
     "height": 391
    },
    "colab_type": "code",
    "executionInfo": {
     "elapsed": 1473,
     "status": "ok",
     "timestamp": 1593538924068,
     "user": {
      "displayName": "indian ai production",
      "photoUrl": "",
      "userId": "05336710603640792650"
     },
     "user_tz": -330
    },
    "id": "I7YK81wpUNVu",
    "outputId": "78b7d52b-82fe-49c0-8a91-e408a0fd86ab"
   },
   "outputs": [
    {
     "data": {
      "text/plain": [
       "array([ 0.71301986,  0.0112734 ,  0.30202307,  0.65677518, -0.48064341,\n",
       "       -1.7385623 ,  2.11587407, -0.25430867,  0.51007548, -0.18373025,\n",
       "       -0.16389438, -0.1473229 , -0.13023539, -0.12812824, -0.12598816,\n",
       "       -0.12454231, -0.12953656, -0.12381344, -0.12010681, -0.11551113,\n",
       "       -0.10992018, -0.10909925, -0.10660036, -0.11234866, -0.09315135,\n",
       "       -0.08618799, -0.08923672, -0.09023078, -0.08721571, -0.09023078,\n",
       "       -0.08721571, -0.08195215, -0.08195215, -0.07633675, -0.0751646 ,\n",
       "       -0.08085949, -0.0739743 , -0.07975227, -0.07153563, -0.0751646 ,\n",
       "       -0.0677166 , -0.08085949, -0.07153563, -0.07862985, -0.0751646 ,\n",
       "       -0.07862985, -0.06504853, -0.0751646 , -0.06901264, -0.0751646 ,\n",
       "       -0.06901264, -0.07028523, -0.07276497, -0.07028523, -0.06367332,\n",
       "       -0.06226825, -0.06226825, -0.06639573, -0.06504853, -0.05935999,\n",
       "       -0.06083125, -0.06639573, -0.06639573, -0.06226825, -0.06367332,\n",
       "       -0.05935999, -0.06639573, -0.06367332, -0.06226825, -0.06226825,\n",
       "       -0.05935999, -0.05935999, -0.05935999, -0.05630391, -0.05935999,\n",
       "       -0.05785186, -0.05935999, -0.05935999, -0.06083125, -0.06083125,\n",
       "       -0.05471275, -0.06083125, -0.06226825, -0.05935999, -0.05935999,\n",
       "       -0.06226825, -0.06226825, -0.05785186, -0.06504853, -0.06226825,\n",
       "       -0.06083125, -0.05935999, -0.05307449, -0.05630391, -0.06226825,\n",
       "       -0.05471275, -0.05935999, -0.05471275, -0.05471275, -0.05138463,\n",
       "       -0.05307449, -0.05307449, -0.05471275, -0.05471275, -0.05630391,\n",
       "       -0.05630391, -0.05138463])"
      ]
     },
     "execution_count": 11,
     "metadata": {},
     "output_type": "execute_result"
    }
   ],
   "source": [
    "X_test[0]"
   ]
  },
  {
   "cell_type": "code",
   "execution_count": 12,
   "metadata": {
    "colab": {
     "base_uri": "https://localhost:8080/",
     "height": 34
    },
    "colab_type": "code",
    "executionInfo": {
     "elapsed": 1470,
     "status": "ok",
     "timestamp": 1593538971852,
     "user": {
      "displayName": "indian ai production",
      "photoUrl": "",
      "userId": "05336710603640792650"
     },
     "user_tz": -330
    },
    "id": "ziCxbZFtUkeI",
    "outputId": "0c0aca55-76f5-413a-d573-71823d7750d8"
   },
   "outputs": [
    {
     "data": {
      "text/plain": [
       "array([86.53676526])"
      ]
     },
     "execution_count": 12,
     "metadata": {},
     "output_type": "execute_result"
    }
   ],
   "source": [
    "svr_linear.predict([X_test[0]])  # predict data with linear"
   ]
  },
  {
   "cell_type": "code",
   "execution_count": 13,
   "metadata": {
    "colab": {
     "base_uri": "https://localhost:8080/",
     "height": 51
    },
    "colab_type": "code",
    "executionInfo": {
     "elapsed": 2450,
     "status": "ok",
     "timestamp": 1593539026806,
     "user": {
      "displayName": "indian ai production",
      "photoUrl": "",
      "userId": "05336710603640792650"
     },
     "user_tz": -330
    },
    "id": "XKcD39ocUwI9",
    "outputId": "754b7e9c-51a6-467f-b2d9-3e812b55ab3b"
   },
   "outputs": [
    {
     "data": {
      "text/plain": [
       "array([ 86.53676526,  33.70321929, 122.48542445, ...,  26.23942664,\n",
       "        64.52601454, 176.17339689])"
      ]
     },
     "execution_count": 13,
     "metadata": {},
     "output_type": "execute_result"
    }
   ],
   "source": [
    "y_pred = svr_linear.predict(X_test)\n",
    "y_pred"
   ]
  },
  {
   "cell_type": "code",
   "execution_count": 14,
   "metadata": {
    "colab": {
     "base_uri": "https://localhost:8080/",
     "height": 221
    },
    "colab_type": "code",
    "executionInfo": {
     "elapsed": 1349,
     "status": "ok",
     "timestamp": 1593539041591,
     "user": {
      "displayName": "indian ai production",
      "photoUrl": "",
      "userId": "05336710603640792650"
     },
     "user_tz": -330
    },
    "id": "KNvWHnCSU9VB",
    "outputId": "b6096636-8487-4e6f-8989-c9e8d030ccb0"
   },
   "outputs": [
    {
     "data": {
      "text/plain": [
       "2435     80.00\n",
       "3113     40.00\n",
       "426     120.00\n",
       "1124     79.00\n",
       "1161     45.00\n",
       "         ...  \n",
       "2078     28.34\n",
       "6855     84.00\n",
       "4381     32.00\n",
       "3862     63.00\n",
       "43      180.00\n",
       "Name: price, Length: 1424, dtype: float64"
      ]
     },
     "execution_count": 14,
     "metadata": {},
     "output_type": "execute_result"
    }
   ],
   "source": [
    "y_test"
   ]
  },
  {
   "cell_type": "code",
   "execution_count": 15,
   "metadata": {
    "colab": {
     "base_uri": "https://localhost:8080/",
     "height": 51
    },
    "colab_type": "code",
    "executionInfo": {
     "elapsed": 1498,
     "status": "ok",
     "timestamp": 1593539109068,
     "user": {
      "displayName": "indian ai production",
      "photoUrl": "",
      "userId": "05336710603640792650"
     },
     "user_tz": -330
    },
    "id": "pNx6JSTrVBMw",
    "outputId": "84110a9d-ddb3-4481-ed72-008fcf9d6014"
   },
   "outputs": [
    {
     "name": "stdout",
     "output_type": "stream",
     "text": [
      "MSE =  4093.5719890687483\n",
      "RMSE =  63.981028352698026\n"
     ]
    }
   ],
   "source": [
    "from sklearn.metrics import mean_squared_error\n",
    "import numpy as np\n",
    "\n",
    "mse = mean_squared_error(y_test, y_pred)\n",
    "rmse = np.sqrt(mse)\n",
    "\n",
    "print('MSE = ', mse)\n",
    "print('RMSE = ', rmse)"
   ]
  }
 ],
 "metadata": {
  "colab": {
   "authorship_tag": "ABX9TyP1Ij6E7fjzYhCSlHR5xiMg",
   "collapsed_sections": [],
   "name": "Support Vector Regression Bangalore -  House Price Prediction.ipynb",
   "provenance": []
  },
  "kernelspec": {
   "display_name": "Python 3",
   "language": "python",
   "name": "python3"
  },
  "language_info": {
   "codemirror_mode": {
    "name": "ipython",
    "version": 3
   },
   "file_extension": ".py",
   "mimetype": "text/x-python",
   "name": "python",
   "nbconvert_exporter": "python",
   "pygments_lexer": "ipython3",
   "version": "3.8.8"
  }
 },
 "nbformat": 4,
 "nbformat_minor": 1
}
