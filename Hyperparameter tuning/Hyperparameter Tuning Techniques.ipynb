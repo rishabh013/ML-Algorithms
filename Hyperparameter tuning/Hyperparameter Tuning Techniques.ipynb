{
 "cells": [
  {
   "cell_type": "markdown",
   "id": "75044f34",
   "metadata": {},
   "source": [
    "## All Techniques Of Hyper Parameter Optimization\n"
   ]
  },
  {
   "cell_type": "code",
   "execution_count": 29,
   "id": "7f2e34dd",
   "metadata": {},
   "outputs": [],
   "source": [
    "# 1.GridSearchCV\n",
    "# 2.RandomizedSearchCV\n",
    "# 3.Bayesian Optimization -Automate Hyperparameter Tuning (Hyperopt)\n",
    "# 4.Sequential Model Based Optimization(Tuning a scikit-learn estimator with skopt)\n",
    "# 5.Optuna- Automate Hyperparameter Tuning\n",
    "# 6.Genetic Algorithms (TPOT Classifier)"
   ]
  },
  {
   "cell_type": "code",
   "execution_count": 2,
   "id": "17ef5e11",
   "metadata": {},
   "outputs": [],
   "source": [
    "import numpy as np \n",
    "import pandas as pd\n",
    "import warnings\n",
    "warnings.filterwarnings('ignore')"
   ]
  },
  {
   "cell_type": "code",
   "execution_count": 3,
   "id": "799fef39",
   "metadata": {},
   "outputs": [
    {
     "data": {
      "text/html": [
       "<div>\n",
       "<style scoped>\n",
       "    .dataframe tbody tr th:only-of-type {\n",
       "        vertical-align: middle;\n",
       "    }\n",
       "\n",
       "    .dataframe tbody tr th {\n",
       "        vertical-align: top;\n",
       "    }\n",
       "\n",
       "    .dataframe thead th {\n",
       "        text-align: right;\n",
       "    }\n",
       "</style>\n",
       "<table border=\"1\" class=\"dataframe\">\n",
       "  <thead>\n",
       "    <tr style=\"text-align: right;\">\n",
       "      <th></th>\n",
       "      <th>Pregnancies</th>\n",
       "      <th>Glucose</th>\n",
       "      <th>BloodPressure</th>\n",
       "      <th>SkinThickness</th>\n",
       "      <th>Insulin</th>\n",
       "      <th>BMI</th>\n",
       "      <th>DiabetesPedigreeFunction</th>\n",
       "      <th>Age</th>\n",
       "      <th>Outcome</th>\n",
       "    </tr>\n",
       "  </thead>\n",
       "  <tbody>\n",
       "    <tr>\n",
       "      <th>0</th>\n",
       "      <td>6</td>\n",
       "      <td>148</td>\n",
       "      <td>72</td>\n",
       "      <td>35</td>\n",
       "      <td>0</td>\n",
       "      <td>33.6</td>\n",
       "      <td>0.627</td>\n",
       "      <td>50</td>\n",
       "      <td>1</td>\n",
       "    </tr>\n",
       "    <tr>\n",
       "      <th>1</th>\n",
       "      <td>1</td>\n",
       "      <td>85</td>\n",
       "      <td>66</td>\n",
       "      <td>29</td>\n",
       "      <td>0</td>\n",
       "      <td>26.6</td>\n",
       "      <td>0.351</td>\n",
       "      <td>31</td>\n",
       "      <td>0</td>\n",
       "    </tr>\n",
       "    <tr>\n",
       "      <th>2</th>\n",
       "      <td>8</td>\n",
       "      <td>183</td>\n",
       "      <td>64</td>\n",
       "      <td>0</td>\n",
       "      <td>0</td>\n",
       "      <td>23.3</td>\n",
       "      <td>0.672</td>\n",
       "      <td>32</td>\n",
       "      <td>1</td>\n",
       "    </tr>\n",
       "    <tr>\n",
       "      <th>3</th>\n",
       "      <td>1</td>\n",
       "      <td>89</td>\n",
       "      <td>66</td>\n",
       "      <td>23</td>\n",
       "      <td>94</td>\n",
       "      <td>28.1</td>\n",
       "      <td>0.167</td>\n",
       "      <td>21</td>\n",
       "      <td>0</td>\n",
       "    </tr>\n",
       "    <tr>\n",
       "      <th>4</th>\n",
       "      <td>0</td>\n",
       "      <td>137</td>\n",
       "      <td>40</td>\n",
       "      <td>35</td>\n",
       "      <td>168</td>\n",
       "      <td>43.1</td>\n",
       "      <td>2.288</td>\n",
       "      <td>33</td>\n",
       "      <td>1</td>\n",
       "    </tr>\n",
       "  </tbody>\n",
       "</table>\n",
       "</div>"
      ],
      "text/plain": [
       "   Pregnancies  Glucose  BloodPressure  SkinThickness  Insulin   BMI  \\\n",
       "0            6      148             72             35        0  33.6   \n",
       "1            1       85             66             29        0  26.6   \n",
       "2            8      183             64              0        0  23.3   \n",
       "3            1       89             66             23       94  28.1   \n",
       "4            0      137             40             35      168  43.1   \n",
       "\n",
       "   DiabetesPedigreeFunction  Age  Outcome  \n",
       "0                     0.627   50        1  \n",
       "1                     0.351   31        0  \n",
       "2                     0.672   32        1  \n",
       "3                     0.167   21        0  \n",
       "4                     2.288   33        1  "
      ]
     },
     "execution_count": 3,
     "metadata": {},
     "output_type": "execute_result"
    }
   ],
   "source": [
    "import pandas as pd\n",
    "df=pd.read_csv('diabetes.csv')\n",
    "df.head()"
   ]
  },
  {
   "cell_type": "code",
   "execution_count": 4,
   "id": "74c42bee",
   "metadata": {},
   "outputs": [
    {
     "data": {
      "text/html": [
       "<div>\n",
       "<style scoped>\n",
       "    .dataframe tbody tr th:only-of-type {\n",
       "        vertical-align: middle;\n",
       "    }\n",
       "\n",
       "    .dataframe tbody tr th {\n",
       "        vertical-align: top;\n",
       "    }\n",
       "\n",
       "    .dataframe thead th {\n",
       "        text-align: right;\n",
       "    }\n",
       "</style>\n",
       "<table border=\"1\" class=\"dataframe\">\n",
       "  <thead>\n",
       "    <tr style=\"text-align: right;\">\n",
       "      <th></th>\n",
       "      <th>Pregnancies</th>\n",
       "      <th>Glucose</th>\n",
       "      <th>BloodPressure</th>\n",
       "      <th>SkinThickness</th>\n",
       "      <th>Insulin</th>\n",
       "      <th>BMI</th>\n",
       "      <th>DiabetesPedigreeFunction</th>\n",
       "      <th>Age</th>\n",
       "      <th>Outcome</th>\n",
       "    </tr>\n",
       "  </thead>\n",
       "  <tbody>\n",
       "    <tr>\n",
       "      <th>0</th>\n",
       "      <td>6</td>\n",
       "      <td>148.0</td>\n",
       "      <td>72</td>\n",
       "      <td>35</td>\n",
       "      <td>0</td>\n",
       "      <td>33.6</td>\n",
       "      <td>0.627</td>\n",
       "      <td>50</td>\n",
       "      <td>1</td>\n",
       "    </tr>\n",
       "    <tr>\n",
       "      <th>1</th>\n",
       "      <td>1</td>\n",
       "      <td>85.0</td>\n",
       "      <td>66</td>\n",
       "      <td>29</td>\n",
       "      <td>0</td>\n",
       "      <td>26.6</td>\n",
       "      <td>0.351</td>\n",
       "      <td>31</td>\n",
       "      <td>0</td>\n",
       "    </tr>\n",
       "    <tr>\n",
       "      <th>2</th>\n",
       "      <td>8</td>\n",
       "      <td>183.0</td>\n",
       "      <td>64</td>\n",
       "      <td>0</td>\n",
       "      <td>0</td>\n",
       "      <td>23.3</td>\n",
       "      <td>0.672</td>\n",
       "      <td>32</td>\n",
       "      <td>1</td>\n",
       "    </tr>\n",
       "    <tr>\n",
       "      <th>3</th>\n",
       "      <td>1</td>\n",
       "      <td>89.0</td>\n",
       "      <td>66</td>\n",
       "      <td>23</td>\n",
       "      <td>94</td>\n",
       "      <td>28.1</td>\n",
       "      <td>0.167</td>\n",
       "      <td>21</td>\n",
       "      <td>0</td>\n",
       "    </tr>\n",
       "    <tr>\n",
       "      <th>4</th>\n",
       "      <td>0</td>\n",
       "      <td>137.0</td>\n",
       "      <td>40</td>\n",
       "      <td>35</td>\n",
       "      <td>168</td>\n",
       "      <td>43.1</td>\n",
       "      <td>2.288</td>\n",
       "      <td>33</td>\n",
       "      <td>1</td>\n",
       "    </tr>\n",
       "  </tbody>\n",
       "</table>\n",
       "</div>"
      ],
      "text/plain": [
       "   Pregnancies  Glucose  BloodPressure  SkinThickness  Insulin   BMI  \\\n",
       "0            6    148.0             72             35        0  33.6   \n",
       "1            1     85.0             66             29        0  26.6   \n",
       "2            8    183.0             64              0        0  23.3   \n",
       "3            1     89.0             66             23       94  28.1   \n",
       "4            0    137.0             40             35      168  43.1   \n",
       "\n",
       "   DiabetesPedigreeFunction  Age  Outcome  \n",
       "0                     0.627   50        1  \n",
       "1                     0.351   31        0  \n",
       "2                     0.672   32        1  \n",
       "3                     0.167   21        0  \n",
       "4                     2.288   33        1  "
      ]
     },
     "execution_count": 4,
     "metadata": {},
     "output_type": "execute_result"
    }
   ],
   "source": [
    "# fill the 0, where is present in glucose by median\n",
    "df['Glucose']=np.where(df['Glucose']==0,df['Glucose'].median(),df['Glucose'])\n",
    "df.head()"
   ]
  },
  {
   "cell_type": "code",
   "execution_count": 5,
   "id": "017df7c7",
   "metadata": {},
   "outputs": [],
   "source": [
    "#### Independent And Dependent features\n",
    "X=df.drop('Outcome',axis=1)\n",
    "y=df['Outcome']"
   ]
  },
  {
   "cell_type": "code",
   "execution_count": 6,
   "id": "81eb2c48",
   "metadata": {},
   "outputs": [
    {
     "data": {
      "text/plain": [
       "0    500\n",
       "1    268\n",
       "Name: Outcome, dtype: int64"
      ]
     },
     "execution_count": 6,
     "metadata": {},
     "output_type": "execute_result"
    }
   ],
   "source": [
    "y.value_counts()"
   ]
  },
  {
   "cell_type": "code",
   "execution_count": 7,
   "id": "386624a8",
   "metadata": {},
   "outputs": [],
   "source": [
    "#### Train Test Split\n",
    "from sklearn.model_selection import train_test_split\n",
    "X_train, X_test, y_train ,y_test = train_test_split(X, y, test_size=0.20,random_state=0)"
   ]
  },
  {
   "cell_type": "code",
   "execution_count": 8,
   "id": "3f582948",
   "metadata": {},
   "outputs": [
    {
     "data": {
      "text/plain": [
       "RandomForestClassifier(n_estimators=10)"
      ]
     },
     "execution_count": 8,
     "metadata": {},
     "output_type": "execute_result"
    }
   ],
   "source": [
    "from sklearn.ensemble import RandomForestClassifier\n",
    "rf_classifier=RandomForestClassifier(n_estimators=10)\n",
    "rf_classifier.fit(X_train,y_train)"
   ]
  },
  {
   "cell_type": "code",
   "execution_count": 9,
   "id": "b1da7d87",
   "metadata": {},
   "outputs": [
    {
     "name": "stdout",
     "output_type": "stream",
     "text": [
      "[[94 13]\n",
      " [16 31]]\n",
      "0.8116883116883117\n",
      "              precision    recall  f1-score   support\n",
      "\n",
      "           0       0.85      0.88      0.87       107\n",
      "           1       0.70      0.66      0.68        47\n",
      "\n",
      "    accuracy                           0.81       154\n",
      "   macro avg       0.78      0.77      0.77       154\n",
      "weighted avg       0.81      0.81      0.81       154\n",
      "\n"
     ]
    }
   ],
   "source": [
    "from sklearn.metrics import confusion_matrix,classification_report,accuracy_score\n",
    "prediction=rf_classifier.predict(X_test)\n",
    "print(confusion_matrix(y_test,prediction))\n",
    "print(accuracy_score(y_test, prediction))\n",
    "print(classification_report(y_test,prediction))"
   ]
  },
  {
   "cell_type": "markdown",
   "id": "c161fce1",
   "metadata": {},
   "source": [
    "\n",
    "The main parameters used by a Random Forest Classifier are:\n",
    "\n",
    "criterion = the function used to evaluate the quality of a split.                            \n",
    "max_depth = maximum number of levels allowed in each tree.                                      \n",
    "max_features = maximum number of features considered when splitting a node.                           \n",
    "min_samples_leaf = minimum number of samples which can be stored in a tree leaf.                   \n",
    "min_samples_split = minimum number of samples necessary in a node to cause node splitting.                      \n",
    "n_estimators = number of trees in the ensamble.                                           "
   ]
  },
  {
   "cell_type": "markdown",
   "id": "9f01b44e",
   "metadata": {},
   "source": [
    "### Manual Hyperparameter Tuning\n"
   ]
  },
  {
   "cell_type": "code",
   "execution_count": 10,
   "id": "b33681db",
   "metadata": {},
   "outputs": [
    {
     "name": "stdout",
     "output_type": "stream",
     "text": [
      "[[98  9]\n",
      " [18 29]]\n",
      "0.8246753246753247\n",
      "              precision    recall  f1-score   support\n",
      "\n",
      "           0       0.84      0.92      0.88       107\n",
      "           1       0.76      0.62      0.68        47\n",
      "\n",
      "    accuracy                           0.82       154\n",
      "   macro avg       0.80      0.77      0.78       154\n",
      "weighted avg       0.82      0.82      0.82       154\n",
      "\n"
     ]
    }
   ],
   "source": [
    "model=RandomForestClassifier(n_estimators=300,criterion='entropy',\n",
    "                             max_features='sqrt',min_samples_leaf=10,random_state=105)\n",
    "model.fit(X_train,y_train)\n",
    "predictions=model.predict(X_test)\n",
    "\n",
    "print(confusion_matrix(y_test,predictions))\n",
    "print(accuracy_score(y_test,predictions))\n",
    "print(classification_report(y_test,predictions))"
   ]
  },
  {
   "cell_type": "markdown",
   "id": "05959649",
   "metadata": {},
   "source": [
    "### 1) Randomized Search Cv"
   ]
  },
  {
   "cell_type": "code",
   "execution_count": 11,
   "id": "d31cf4e8",
   "metadata": {},
   "outputs": [
    {
     "name": "stdout",
     "output_type": "stream",
     "text": [
      "{'n_estimators': [200, 400, 600, 800, 1000, 1200, 1400, 1600, 1800, 2000], 'max_features': ['auto', 'sqrt', 'log2'], 'max_depth': [10, 120, 230, 340, 450, 560, 670, 780, 890, 1000], 'min_samples_split': [2, 5, 10, 14], 'min_samples_leaf': [1, 2, 4, 6, 8], 'criterion': ['entropy', 'gini']}\n"
     ]
    }
   ],
   "source": [
    "from sklearn.model_selection import RandomizedSearchCV\n",
    "# Number of trees in random forest\n",
    "n_estimators = [int(x) for x in np.linspace(start = 200, stop = 2000, num = 10)]\n",
    "\n",
    "# Number of features to consider at every split\n",
    "max_features = ['auto', 'sqrt','log2']\n",
    "\n",
    "# Maximum number of levels in tree\n",
    "max_depth = [int(x) for x in np.linspace(10, 1000,10)]\n",
    "\n",
    "# Minimum number of samples required to split a node\n",
    "min_samples_split = [2, 5, 10,14]\n",
    "\n",
    "# Minimum number of samples required at each leaf node\n",
    "min_samples_leaf = [1, 2, 4,6,8]\n",
    "\n",
    "# Create the random grid\n",
    "random_grid = {'n_estimators': n_estimators,\n",
    "               'max_features': max_features,\n",
    "               'max_depth': max_depth,\n",
    "               'min_samples_split': min_samples_split,\n",
    "               'min_samples_leaf': min_samples_leaf,\n",
    "              'criterion':['entropy','gini']}\n",
    "print(random_grid)"
   ]
  },
  {
   "cell_type": "code",
   "execution_count": 12,
   "id": "5bc94592",
   "metadata": {},
   "outputs": [
    {
     "name": "stdout",
     "output_type": "stream",
     "text": [
      "Fitting 3 folds for each of 50 candidates, totalling 150 fits\n"
     ]
    },
    {
     "data": {
      "text/plain": [
       "RandomizedSearchCV(cv=3, estimator=RandomForestClassifier(), n_iter=50,\n",
       "                   n_jobs=-1,\n",
       "                   param_distributions={'criterion': ['entropy', 'gini'],\n",
       "                                        'max_depth': [10, 120, 230, 340, 450,\n",
       "                                                      560, 670, 780, 890,\n",
       "                                                      1000],\n",
       "                                        'max_features': ['auto', 'sqrt',\n",
       "                                                         'log2'],\n",
       "                                        'min_samples_leaf': [1, 2, 4, 6, 8],\n",
       "                                        'min_samples_split': [2, 5, 10, 14],\n",
       "                                        'n_estimators': [200, 400, 600, 800,\n",
       "                                                         1000, 1200, 1400, 1600,\n",
       "                                                         1800, 2000]},\n",
       "                   random_state=100, verbose=2)"
      ]
     },
     "execution_count": 12,
     "metadata": {},
     "output_type": "execute_result"
    }
   ],
   "source": [
    "rf=RandomForestClassifier()\n",
    "rf_randomcv=RandomizedSearchCV(estimator=rf,param_distributions=random_grid,n_iter=50,cv=3,verbose=2,\n",
    "                               random_state=100,n_jobs=-1)\n",
    "### fit the randomized model\n",
    "rf_randomcv.fit(X_train,y_train)"
   ]
  },
  {
   "cell_type": "code",
   "execution_count": 13,
   "id": "238f63b5",
   "metadata": {},
   "outputs": [
    {
     "data": {
      "text/plain": [
       "{'n_estimators': 800,\n",
       " 'min_samples_split': 2,\n",
       " 'min_samples_leaf': 2,\n",
       " 'max_features': 'auto',\n",
       " 'max_depth': 890,\n",
       " 'criterion': 'gini'}"
      ]
     },
     "execution_count": 13,
     "metadata": {},
     "output_type": "execute_result"
    }
   ],
   "source": [
    "rf_randomcv.best_params_  # get value in which parameter we will get good accuracy"
   ]
  },
  {
   "cell_type": "code",
   "execution_count": 14,
   "id": "331a6732",
   "metadata": {},
   "outputs": [
    {
     "data": {
      "text/plain": [
       "RandomizedSearchCV(cv=3, estimator=RandomForestClassifier(), n_iter=50,\n",
       "                   n_jobs=-1,\n",
       "                   param_distributions={'criterion': ['entropy', 'gini'],\n",
       "                                        'max_depth': [10, 120, 230, 340, 450,\n",
       "                                                      560, 670, 780, 890,\n",
       "                                                      1000],\n",
       "                                        'max_features': ['auto', 'sqrt',\n",
       "                                                         'log2'],\n",
       "                                        'min_samples_leaf': [1, 2, 4, 6, 8],\n",
       "                                        'min_samples_split': [2, 5, 10, 14],\n",
       "                                        'n_estimators': [200, 400, 600, 800,\n",
       "                                                         1000, 1200, 1400, 1600,\n",
       "                                                         1800, 2000]},\n",
       "                   random_state=100, verbose=2)"
      ]
     },
     "execution_count": 14,
     "metadata": {},
     "output_type": "execute_result"
    }
   ],
   "source": [
    "rf_randomcv   # these parameter i used "
   ]
  },
  {
   "cell_type": "code",
   "execution_count": 15,
   "id": "2580ab1f",
   "metadata": {},
   "outputs": [
    {
     "data": {
      "text/plain": [
       "RandomForestClassifier(max_depth=890, min_samples_leaf=2, n_estimators=800)"
      ]
     },
     "execution_count": 15,
     "metadata": {},
     "output_type": "execute_result"
    }
   ],
   "source": [
    "rf_randomcv.best_estimator_"
   ]
  },
  {
   "cell_type": "code",
   "execution_count": 16,
   "id": "be553c33",
   "metadata": {},
   "outputs": [],
   "source": [
    "best_random_grid=rf_randomcv.best_estimator_"
   ]
  },
  {
   "cell_type": "code",
   "execution_count": 17,
   "id": "66ec61cf",
   "metadata": {},
   "outputs": [
    {
     "name": "stdout",
     "output_type": "stream",
     "text": [
      "[[96 11]\n",
      " [16 31]]\n",
      "Accuracy Score 0.8246753246753247\n",
      "Classification report:               precision    recall  f1-score   support\n",
      "\n",
      "           0       0.86      0.90      0.88       107\n",
      "           1       0.74      0.66      0.70        47\n",
      "\n",
      "    accuracy                           0.82       154\n",
      "   macro avg       0.80      0.78      0.79       154\n",
      "weighted avg       0.82      0.82      0.82       154\n",
      "\n"
     ]
    }
   ],
   "source": [
    "from sklearn.metrics import accuracy_score\n",
    "y_pred=best_random_grid.predict(X_test)\n",
    "print(confusion_matrix(y_test,y_pred))\n",
    "print(\"Accuracy Score {}\".format(accuracy_score(y_test,y_pred)))\n",
    "print(\"Classification report: {}\".format(classification_report(y_test,y_pred)))"
   ]
  },
  {
   "cell_type": "markdown",
   "id": "e8de329d",
   "metadata": {},
   "source": [
    "### 2) GridSearch CV"
   ]
  },
  {
   "cell_type": "code",
   "execution_count": 18,
   "id": "7eb1e0c1",
   "metadata": {},
   "outputs": [
    {
     "data": {
      "text/plain": [
       "{'n_estimators': 800,\n",
       " 'min_samples_split': 2,\n",
       " 'min_samples_leaf': 2,\n",
       " 'max_features': 'auto',\n",
       " 'max_depth': 890,\n",
       " 'criterion': 'gini'}"
      ]
     },
     "execution_count": 18,
     "metadata": {},
     "output_type": "execute_result"
    }
   ],
   "source": [
    "rf_randomcv.best_params_  # our model perform well with this parameter"
   ]
  },
  {
   "cell_type": "code",
   "execution_count": 19,
   "id": "94ab72f6",
   "metadata": {},
   "outputs": [
    {
     "name": "stdout",
     "output_type": "stream",
     "text": [
      "{'criterion': ['gini'], 'max_depth': [890], 'max_features': ['auto'], 'min_samples_leaf': [2, 4, 6], 'min_samples_split': [0, 1, 2, 3, 4], 'n_estimators': [600, 700, 800, 900, 1000]}\n"
     ]
    }
   ],
   "source": [
    "from sklearn.model_selection import GridSearchCV\n",
    "\n",
    "param_grid = {\n",
    "    'criterion': [rf_randomcv.best_params_['criterion']],\n",
    "    'max_depth': [rf_randomcv.best_params_['max_depth']],\n",
    "    'max_features': [rf_randomcv.best_params_['max_features']],\n",
    "    'min_samples_leaf': [rf_randomcv.best_params_['min_samples_leaf'], \n",
    "                         rf_randomcv.best_params_['min_samples_leaf']+2, \n",
    "                         rf_randomcv.best_params_['min_samples_leaf'] + 4],\n",
    "    'min_samples_split': [rf_randomcv.best_params_['min_samples_split'] - 2,\n",
    "                          rf_randomcv.best_params_['min_samples_split'] - 1,\n",
    "                          rf_randomcv.best_params_['min_samples_split'], \n",
    "                          rf_randomcv.best_params_['min_samples_split'] +1,\n",
    "                          rf_randomcv.best_params_['min_samples_split'] + 2],\n",
    "    'n_estimators': [rf_randomcv.best_params_['n_estimators'] - 200, rf_randomcv.best_params_['n_estimators'] - 100, \n",
    "                     rf_randomcv.best_params_['n_estimators'], \n",
    "                     rf_randomcv.best_params_['n_estimators'] + 100, rf_randomcv.best_params_['n_estimators'] + 200]\n",
    "}\n",
    "\n",
    "print(param_grid)"
   ]
  },
  {
   "cell_type": "code",
   "execution_count": 20,
   "id": "34b51f78",
   "metadata": {},
   "outputs": [
    {
     "name": "stdout",
     "output_type": "stream",
     "text": [
      "Fitting 10 folds for each of 75 candidates, totalling 750 fits\n"
     ]
    },
    {
     "data": {
      "text/plain": [
       "GridSearchCV(cv=10, estimator=RandomForestClassifier(), n_jobs=-1,\n",
       "             param_grid={'criterion': ['gini'], 'max_depth': [890],\n",
       "                         'max_features': ['auto'],\n",
       "                         'min_samples_leaf': [2, 4, 6],\n",
       "                         'min_samples_split': [0, 1, 2, 3, 4],\n",
       "                         'n_estimators': [600, 700, 800, 900, 1000]},\n",
       "             verbose=2)"
      ]
     },
     "execution_count": 20,
     "metadata": {},
     "output_type": "execute_result"
    }
   ],
   "source": [
    "#### Fit the grid_search to the data\n",
    "rf=RandomForestClassifier()\n",
    "grid_search=GridSearchCV(estimator=rf,param_grid=param_grid,cv=10,n_jobs=-1,verbose=2)\n",
    "grid_search.fit(X_train,y_train)"
   ]
  },
  {
   "cell_type": "code",
   "execution_count": 21,
   "id": "28f87ede",
   "metadata": {},
   "outputs": [
    {
     "data": {
      "text/plain": [
       "RandomForestClassifier(max_depth=890, min_samples_leaf=4, min_samples_split=4,\n",
       "                       n_estimators=900)"
      ]
     },
     "execution_count": 21,
     "metadata": {},
     "output_type": "execute_result"
    }
   ],
   "source": [
    "grid_search.best_estimator_"
   ]
  },
  {
   "cell_type": "code",
   "execution_count": 22,
   "id": "ddf137ce",
   "metadata": {},
   "outputs": [],
   "source": [
    "best_grid=grid_search.best_estimator_"
   ]
  },
  {
   "cell_type": "code",
   "execution_count": 23,
   "id": "cd795b43",
   "metadata": {},
   "outputs": [
    {
     "data": {
      "text/plain": [
       "RandomForestClassifier(max_depth=890, min_samples_leaf=4, min_samples_split=4,\n",
       "                       n_estimators=900)"
      ]
     },
     "execution_count": 23,
     "metadata": {},
     "output_type": "execute_result"
    }
   ],
   "source": [
    "best_grid"
   ]
  },
  {
   "cell_type": "code",
   "execution_count": 24,
   "id": "fb8f0a99",
   "metadata": {},
   "outputs": [
    {
     "name": "stdout",
     "output_type": "stream",
     "text": [
      "[[96 11]\n",
      " [19 28]]\n",
      "Accuracy Score 0.8051948051948052\n",
      "Classification report:               precision    recall  f1-score   support\n",
      "\n",
      "           0       0.83      0.90      0.86       107\n",
      "           1       0.72      0.60      0.65        47\n",
      "\n",
      "    accuracy                           0.81       154\n",
      "   macro avg       0.78      0.75      0.76       154\n",
      "weighted avg       0.80      0.81      0.80       154\n",
      "\n"
     ]
    }
   ],
   "source": [
    "y_pred=best_grid.predict(X_test)\n",
    "print(confusion_matrix(y_test,y_pred))\n",
    "print(\"Accuracy Score {}\".format(accuracy_score(y_test,y_pred)))\n",
    "print(\"Classification report: {}\".format(classification_report(y_test,y_pred)))"
   ]
  },
  {
   "cell_type": "markdown",
   "id": "8c6d0e25",
   "metadata": {},
   "source": [
    "### 3) Automated Hyperparameter Tuning"
   ]
  },
  {
   "cell_type": "markdown",
   "id": "82894ddf",
   "metadata": {},
   "source": [
    "Automated Hyperparameter Tuning can be done by using techniques such as\n",
    "\n",
    "Bayesian Optimization                                               \n",
    "Gradient Descent                                                         \n",
    "Evolutionary Algorithms                                                        "
   ]
  },
  {
   "cell_type": "markdown",
   "id": "0a1e4c0e",
   "metadata": {},
   "source": [
    "###### Bayesian Optimization\n"
   ]
  },
  {
   "cell_type": "markdown",
   "id": "69f7cb3b",
   "metadata": {},
   "source": [
    "Bayesian optimization uses probability to find the minimum of a function. The final aim is to find the input value to a function which can gives us the lowest possible output value.It usually performs better than random,grid and manual search providing better performance in the testing phase and reduced optimization time. In Hyperopt, Bayesian Optimization can be implemented giving 3 three main parameters to the function fmin.\n",
    "\n",
    "--Objective Function = defines the loss function to minimize.                               \n",
    "--Domain Space = defines the range of input values to test (in Bayesian Optimization this space creates a probability distribution for each of the used Hyperparameters).                                     \n",
    "--Optimization Algorithm = defines the search algorithm to use to select the best input values to use in each new iteration."
   ]
  },
  {
   "cell_type": "code",
   "execution_count": 26,
   "id": "3b9afa0e",
   "metadata": {},
   "outputs": [
    {
     "name": "stdout",
     "output_type": "stream",
     "text": [
      "Collecting hyperopt\n",
      "  Downloading hyperopt-0.2.5-py2.py3-none-any.whl (965 kB)\n",
      "Requirement already satisfied: scipy in c:\\python\\lib\\site-packages (from hyperopt) (1.6.2)\n",
      "Requirement already satisfied: numpy in c:\\python\\lib\\site-packages (from hyperopt) (1.20.1)\n",
      "Requirement already satisfied: networkx>=2.2 in c:\\python\\lib\\site-packages (from hyperopt) (2.5)\n",
      "Requirement already satisfied: tqdm in c:\\python\\lib\\site-packages (from hyperopt) (4.59.0)\n",
      "Requirement already satisfied: future in c:\\python\\lib\\site-packages (from hyperopt) (0.18.2)\n",
      "Requirement already satisfied: cloudpickle in c:\\python\\lib\\site-packages (from hyperopt) (1.6.0)\n",
      "Requirement already satisfied: six in c:\\python\\lib\\site-packages (from hyperopt) (1.15.0)\n",
      "Requirement already satisfied: decorator>=4.3.0 in c:\\python\\lib\\site-packages (from networkx>=2.2->hyperopt) (5.0.6)\n",
      "Installing collected packages: hyperopt\n",
      "Successfully installed hyperopt-0.2.5\n"
     ]
    }
   ],
   "source": [
    "!pip install hyperopt"
   ]
  },
  {
   "cell_type": "code",
   "execution_count": 27,
   "id": "46f14884",
   "metadata": {},
   "outputs": [],
   "source": [
    "from hyperopt import hp,fmin,tpe,STATUS_OK,Trials"
   ]
  },
  {
   "cell_type": "code",
   "execution_count": 28,
   "id": "c0af3581",
   "metadata": {},
   "outputs": [
    {
     "name": "stdout",
     "output_type": "stream",
     "text": [
      "{'criterion': <hyperopt.pyll.base.Apply object at 0x000002801F4CEE20>, 'max_depth': <hyperopt.pyll.base.Apply object at 0x000002801F4CEC40>, 'max_features': <hyperopt.pyll.base.Apply object at 0x00000280209FD0A0>, 'min_samples_leaf': <hyperopt.pyll.base.Apply object at 0x00000280209FD280>, 'min_samples_split': <hyperopt.pyll.base.Apply object at 0x00000280209FD3A0>, 'n_estimators': <hyperopt.pyll.base.Apply object at 0x00000280209FD490>}\n"
     ]
    }
   ],
   "source": [
    "space = {'criterion': hp.choice('criterion', ['entropy', 'gini']),\n",
    "        'max_depth': hp.quniform('max_depth', 10, 1200, 10),\n",
    "        'max_features': hp.choice('max_features', ['auto', 'sqrt','log2', None]),\n",
    "        'min_samples_leaf': hp.uniform('min_samples_leaf', 0, 0.5),\n",
    "        'min_samples_split' : hp.uniform ('min_samples_split', 0, 1),\n",
    "        'n_estimators' : hp.choice('n_estimators', [10, 50, 300, 750, 1200,1300,1500])\n",
    "    }\n",
    "print(space)"
   ]
  },
  {
   "cell_type": "code",
   "execution_count": 30,
   "id": "917764fc",
   "metadata": {},
   "outputs": [],
   "source": [
    "def objective(space):\n",
    "    model = RandomForestClassifier(criterion = space['criterion'], max_depth = space['max_depth'],\n",
    "                                 max_features = space['max_features'],\n",
    "                                 min_samples_leaf = space['min_samples_leaf'],\n",
    "                                 min_samples_split = space['min_samples_split'],\n",
    "                                 n_estimators = space['n_estimators'], \n",
    "                                 )\n",
    "    \n",
    "    accuracy = cross_val_score(model, X_train, y_train, cv = 5).mean()\n",
    "\n",
    "    # We aim to maximize accuracy, therefore we return it as a negative value\n",
    "    return {'loss': -accuracy, 'status': STATUS_OK }"
   ]
  },
  {
   "cell_type": "code",
   "execution_count": 31,
   "id": "ee3d9456",
   "metadata": {},
   "outputs": [
    {
     "name": "stdout",
     "output_type": "stream",
     "text": [
      "100%|███████████████████████████████████████████████| 80/80 [11:05<00:00,  8.32s/trial, best loss: -0.7671331467413035]\n"
     ]
    },
    {
     "data": {
      "text/plain": [
       "{'criterion': 0,\n",
       " 'max_depth': 230.0,\n",
       " 'max_features': 1,\n",
       " 'min_samples_leaf': 0.01873445837133286,\n",
       " 'min_samples_split': 0.019506575540176763,\n",
       " 'n_estimators': 3}"
      ]
     },
     "execution_count": 31,
     "metadata": {},
     "output_type": "execute_result"
    }
   ],
   "source": [
    "from sklearn.model_selection import cross_val_score\n",
    "trials = Trials()\n",
    "best = fmin(fn= objective,\n",
    "            space= space,\n",
    "            algo= tpe.suggest,\n",
    "            max_evals = 80,\n",
    "            trials= trials)\n",
    "best"
   ]
  },
  {
   "cell_type": "code",
   "execution_count": 32,
   "id": "2a95010f",
   "metadata": {},
   "outputs": [
    {
     "name": "stdout",
     "output_type": "stream",
     "text": [
      "entropy\n",
      "sqrt\n",
      "750\n"
     ]
    }
   ],
   "source": [
    "crit = {0: 'entropy', 1: 'gini'}\n",
    "feat = {0: 'auto', 1: 'sqrt', 2: 'log2', 3: None}\n",
    "est = {0: 10, 1: 50, 2: 300, 3: 750, 4: 1200,5:1300,6:1500}\n",
    "\n",
    "\n",
    "print(crit[best['criterion']])\n",
    "print(feat[best['max_features']])\n",
    "print(est[best['n_estimators']])"
   ]
  },
  {
   "cell_type": "code",
   "execution_count": 33,
   "id": "8036a693",
   "metadata": {},
   "outputs": [
    {
     "data": {
      "text/plain": [
       "0.01873445837133286"
      ]
     },
     "execution_count": 33,
     "metadata": {},
     "output_type": "execute_result"
    }
   ],
   "source": [
    "best['min_samples_leaf']"
   ]
  },
  {
   "cell_type": "code",
   "execution_count": 34,
   "id": "1dd0adf2",
   "metadata": {},
   "outputs": [
    {
     "name": "stdout",
     "output_type": "stream",
     "text": [
      "[[97 10]\n",
      " [20 27]]\n",
      "0.8051948051948052\n",
      "              precision    recall  f1-score   support\n",
      "\n",
      "           0       0.83      0.91      0.87       107\n",
      "           1       0.73      0.57      0.64        47\n",
      "\n",
      "    accuracy                           0.81       154\n",
      "   macro avg       0.78      0.74      0.75       154\n",
      "weighted avg       0.80      0.81      0.80       154\n",
      "\n"
     ]
    }
   ],
   "source": [
    "trainedforest = RandomForestClassifier(criterion = crit[best['criterion']], max_depth = best['max_depth'], \n",
    "                                       max_features = feat[best['max_features']], \n",
    "                                       min_samples_leaf = best['min_samples_leaf'], \n",
    "                                       min_samples_split = best['min_samples_split'], \n",
    "                                       n_estimators = est[best['n_estimators']]).fit(X_train,y_train)\n",
    "predictionforest = trainedforest.predict(X_test)\n",
    "print(confusion_matrix(y_test,predictionforest))\n",
    "print(accuracy_score(y_test,predictionforest))\n",
    "print(classification_report(y_test,predictionforest))\n",
    "acc5 = accuracy_score(y_test,predictionforest)"
   ]
  },
  {
   "cell_type": "markdown",
   "id": "14360bd6",
   "metadata": {},
   "source": [
    "### 4) Genetic Algorithms"
   ]
  },
  {
   "cell_type": "markdown",
   "id": "4a85a829",
   "metadata": {},
   "source": [
    "Genetic Algorithms tries to apply natural selection mechanisms to Machine Learning contexts.      \n",
    "\n",
    "Let's immagine we create a population of N Machine Learning models with some predifined Hyperparameters. We can then calculate the accuracy of each model and decide to keep just half of the models (the ones that performs best). We can now generate some offsprings having similar Hyperparameters to the ones of the best models so that go get again a population of N models. At this point we can again caltulate the accuracy of each model and repeate the cycle for a defined number of generations. In this way, just the best models will survive at the end of the process."
   ]
  },
  {
   "cell_type": "code",
   "execution_count": 35,
   "id": "89b9959f",
   "metadata": {},
   "outputs": [
    {
     "name": "stdout",
     "output_type": "stream",
     "text": [
      "{'n_estimators': [200, 400, 600, 800, 1000, 1200, 1400, 1600, 1800, 2000], 'max_features': ['auto', 'sqrt', 'log2'], 'max_depth': [10, 120, 230, 340, 450, 560, 670, 780, 890, 1000], 'min_samples_split': [2, 5, 10, 14], 'min_samples_leaf': [1, 2, 4, 6, 8], 'criterion': ['entropy', 'gini']}\n"
     ]
    }
   ],
   "source": [
    "import numpy as np\n",
    "from sklearn.model_selection import RandomizedSearchCV\n",
    "# Number of trees in random forest\n",
    "n_estimators = [int(x) for x in np.linspace(start = 200, stop = 2000, num = 10)]\n",
    "\n",
    "# Number of features to consider at every split\n",
    "max_features = ['auto', 'sqrt','log2']\n",
    "\n",
    "# Maximum number of levels in tree\n",
    "max_depth = [int(x) for x in np.linspace(10, 1000,10)]\n",
    "\n",
    "# Minimum number of samples required to split a node\n",
    "min_samples_split = [2, 5, 10,14]\n",
    "\n",
    "# Minimum number of samples required at each leaf node\n",
    "min_samples_leaf = [1, 2, 4,6,8]\n",
    "\n",
    "# Create the random grid\n",
    "param = {'n_estimators': n_estimators,\n",
    "               'max_features': max_features,\n",
    "               'max_depth': max_depth,\n",
    "               'min_samples_split': min_samples_split,\n",
    "               'min_samples_leaf': min_samples_leaf,\n",
    "              'criterion':['entropy','gini']}\n",
    "print(param)"
   ]
  },
  {
   "cell_type": "code",
   "execution_count": 37,
   "id": "d4874733",
   "metadata": {},
   "outputs": [
    {
     "name": "stdout",
     "output_type": "stream",
     "text": [
      "Collecting tpot\n",
      "  Downloading TPOT-0.11.7-py3-none-any.whl (87 kB)\n",
      "Collecting stopit>=1.1.1\n",
      "  Downloading stopit-1.1.2.tar.gz (18 kB)\n",
      "Collecting update-checker>=0.16\n",
      "  Downloading update_checker-0.18.0-py3-none-any.whl (7.0 kB)\n",
      "Requirement already satisfied: scipy>=1.3.1 in c:\\python\\lib\\site-packages (from tpot) (1.6.2)\n",
      "Requirement already satisfied: tqdm>=4.36.1 in c:\\python\\lib\\site-packages (from tpot) (4.59.0)\n",
      "Requirement already satisfied: pandas>=0.24.2 in c:\\python\\lib\\site-packages (from tpot) (1.2.4)\n",
      "Requirement already satisfied: scikit-learn>=0.22.0 in c:\\python\\lib\\site-packages (from tpot) (0.24.1)\n",
      "Requirement already satisfied: numpy>=1.16.3 in c:\\python\\lib\\site-packages (from tpot) (1.20.1)\n",
      "Collecting deap>=1.2\n",
      "  Downloading deap-1.3.1-cp38-cp38-win_amd64.whl (108 kB)\n",
      "Requirement already satisfied: xgboost>=1.1.0 in c:\\python\\lib\\site-packages (from tpot) (1.4.2)\n",
      "Requirement already satisfied: joblib>=0.13.2 in c:\\python\\lib\\site-packages (from tpot) (1.0.1)\n",
      "Requirement already satisfied: pytz>=2017.3 in c:\\python\\lib\\site-packages (from pandas>=0.24.2->tpot) (2021.1)\n",
      "Requirement already satisfied: python-dateutil>=2.7.3 in c:\\python\\lib\\site-packages (from pandas>=0.24.2->tpot) (2.8.1)\n",
      "Requirement already satisfied: six>=1.5 in c:\\python\\lib\\site-packages (from python-dateutil>=2.7.3->pandas>=0.24.2->tpot) (1.15.0)\n",
      "Requirement already satisfied: threadpoolctl>=2.0.0 in c:\\python\\lib\\site-packages (from scikit-learn>=0.22.0->tpot) (2.1.0)\n",
      "Requirement already satisfied: requests>=2.3.0 in c:\\python\\lib\\site-packages (from update-checker>=0.16->tpot) (2.25.1)\n",
      "Requirement already satisfied: urllib3<1.27,>=1.21.1 in c:\\python\\lib\\site-packages (from requests>=2.3.0->update-checker>=0.16->tpot) (1.26.4)\n",
      "Requirement already satisfied: chardet<5,>=3.0.2 in c:\\python\\lib\\site-packages (from requests>=2.3.0->update-checker>=0.16->tpot) (4.0.0)\n",
      "Requirement already satisfied: idna<3,>=2.5 in c:\\python\\lib\\site-packages (from requests>=2.3.0->update-checker>=0.16->tpot) (2.10)\n",
      "Requirement already satisfied: certifi>=2017.4.17 in c:\\python\\lib\\site-packages (from requests>=2.3.0->update-checker>=0.16->tpot) (2020.12.5)\n",
      "Building wheels for collected packages: stopit\n",
      "  Building wheel for stopit (setup.py): started\n",
      "  Building wheel for stopit (setup.py): finished with status 'done'\n",
      "  Created wheel for stopit: filename=stopit-1.1.2-py3-none-any.whl size=11955 sha256=28f6e5ab8a975132e9ec614b400287b7236af036a963c55964df500d7e363137\n",
      "  Stored in directory: c:\\users\\saurabh k vishwakarm\\appdata\\local\\pip\\cache\\wheels\\a8\\bb\\8f\\6b9328d23c2dcedbfeb8498b9f650d55d463089e3b8fc0bfb2\n",
      "Successfully built stopit\n",
      "Installing collected packages: update-checker, stopit, deap, tpot\n",
      "Successfully installed deap-1.3.1 stopit-1.1.2 tpot-0.11.7 update-checker-0.18.0\n"
     ]
    }
   ],
   "source": [
    "!pip install tpot"
   ]
  },
  {
   "cell_type": "code",
   "execution_count": 38,
   "id": "8fd06d5e",
   "metadata": {},
   "outputs": [
    {
     "data": {
      "application/vnd.jupyter.widget-view+json": {
       "model_id": "",
       "version_major": 2,
       "version_minor": 0
      },
      "text/plain": [
       "Optimization Progress:   0%|          | 0/84 [00:00<?, ?pipeline/s]"
      ]
     },
     "metadata": {},
     "output_type": "display_data"
    },
    {
     "name": "stdout",
     "output_type": "stream",
     "text": [
      "\n",
      "Generation 1 - Current best internal CV score: 0.760557253204312\n",
      "\n",
      "Generation 2 - Current best internal CV score: 0.760557253204312\n",
      "\n",
      "Generation 3 - Current best internal CV score: 0.7605996944232238\n",
      "\n",
      "Generation 4 - Current best internal CV score: 0.7622018504371445\n",
      "\n",
      "Generation 5 - Current best internal CV score: 0.7622018504371445\n",
      "\n",
      "Best pipeline: RandomForestClassifier(RandomForestClassifier(input_matrix, criterion=gini, max_depth=890, max_features=log2, min_samples_leaf=6, min_samples_split=10, n_estimators=1200), criterion=gini, max_depth=890, max_features=log2, min_samples_leaf=4, min_samples_split=2, n_estimators=1200)\n"
     ]
    },
    {
     "data": {
      "text/plain": [
       "TPOTClassifier(config_dict={'sklearn.ensemble.RandomForestClassifier': {'criterion': ['entropy',\n",
       "                                                                                      'gini'],\n",
       "                                                                        'max_depth': [10,\n",
       "                                                                                      120,\n",
       "                                                                                      230,\n",
       "                                                                                      340,\n",
       "                                                                                      450,\n",
       "                                                                                      560,\n",
       "                                                                                      670,\n",
       "                                                                                      780,\n",
       "                                                                                      890,\n",
       "                                                                                      1000],\n",
       "                                                                        'max_features': ['auto',\n",
       "                                                                                         'sqrt',\n",
       "                                                                                         'log2'],\n",
       "                                                                        'min_samples_leaf': [1,\n",
       "                                                                                             2,\n",
       "                                                                                             4,\n",
       "                                                                                             6,\n",
       "                                                                                             8],\n",
       "                                                                        'min_samples_split': [2,\n",
       "                                                                                              5,\n",
       "                                                                                              10,\n",
       "                                                                                              14],\n",
       "                                                                        'n_estimators': [200,\n",
       "                                                                                         400,\n",
       "                                                                                         600,\n",
       "                                                                                         800,\n",
       "                                                                                         1000,\n",
       "                                                                                         1200,\n",
       "                                                                                         1400,\n",
       "                                                                                         1600,\n",
       "                                                                                         1800,\n",
       "                                                                                         2000]}},\n",
       "               cv=4, early_stop=12, generations=5, offspring_size=12,\n",
       "               population_size=24, scoring='accuracy', verbosity=2)"
      ]
     },
     "execution_count": 38,
     "metadata": {},
     "output_type": "execute_result"
    }
   ],
   "source": [
    "from tpot import TPOTClassifier\n",
    "\n",
    "\n",
    "tpot_classifier = TPOTClassifier(generations= 5, population_size= 24, offspring_size= 12,\n",
    "                                 verbosity= 2, early_stop= 12,\n",
    "                                 config_dict={'sklearn.ensemble.RandomForestClassifier': param}, \n",
    "                                 cv = 4, scoring = 'accuracy')\n",
    "tpot_classifier.fit(X_train,y_train)"
   ]
  },
  {
   "cell_type": "code",
   "execution_count": 39,
   "id": "ba19bc21",
   "metadata": {},
   "outputs": [
    {
     "name": "stdout",
     "output_type": "stream",
     "text": [
      "0.8571428571428571\n"
     ]
    }
   ],
   "source": [
    "accuracy = tpot_classifier.score(X_test, y_test)\n",
    "print(accuracy)"
   ]
  },
  {
   "cell_type": "markdown",
   "id": "bf51117b",
   "metadata": {},
   "source": [
    "### 5) Optimize hyperparameters of the model using Optuna"
   ]
  },
  {
   "cell_type": "markdown",
   "id": "a902d446",
   "metadata": {},
   "source": [
    "The hyperparameters of the above algorithm are n_estimators and max_depth for which we can try different values to see if the model accuracy can be improved. The objective function is modified to accept a trial object. This trial has several methods for sampling hyperparameters. We create a study to run the hyperparameter optimization and finally read the best hyperparameters."
   ]
  },
  {
   "cell_type": "code",
   "execution_count": 40,
   "id": "aa1d135a",
   "metadata": {},
   "outputs": [
    {
     "name": "stdout",
     "output_type": "stream",
     "text": [
      "Collecting optuna\n",
      "  Downloading optuna-2.9.1-py3-none-any.whl (302 kB)\n",
      "Requirement already satisfied: sqlalchemy>=1.1.0 in c:\\python\\lib\\site-packages (from optuna) (1.4.7)\n",
      "Requirement already satisfied: numpy in c:\\python\\lib\\site-packages (from optuna) (1.20.1)\n",
      "Requirement already satisfied: PyYAML in c:\\python\\lib\\site-packages (from optuna) (5.4.1)\n",
      "Collecting colorlog\n",
      "  Downloading colorlog-6.4.1-py2.py3-none-any.whl (11 kB)\n",
      "Requirement already satisfied: tqdm in c:\\python\\lib\\site-packages (from optuna) (4.59.0)\n",
      "Collecting cliff\n",
      "  Downloading cliff-3.9.0-py3-none-any.whl (80 kB)\n",
      "Requirement already satisfied: packaging>=20.0 in c:\\python\\lib\\site-packages (from optuna) (20.9)\n",
      "Requirement already satisfied: scipy!=1.4.0 in c:\\python\\lib\\site-packages (from optuna) (1.6.2)\n",
      "Collecting alembic\n",
      "  Downloading alembic-1.7.3-py3-none-any.whl (208 kB)\n",
      "Collecting cmaes>=0.8.2\n",
      "  Downloading cmaes-0.8.2-py3-none-any.whl (15 kB)\n",
      "Requirement already satisfied: pyparsing>=2.0.2 in c:\\python\\lib\\site-packages (from packaging>=20.0->optuna) (2.4.7)\n",
      "Requirement already satisfied: greenlet!=0.4.17 in c:\\python\\lib\\site-packages (from sqlalchemy>=1.1.0->optuna) (1.0.0)\n",
      "Collecting importlib-resources\n",
      "  Downloading importlib_resources-5.2.2-py3-none-any.whl (27 kB)\n",
      "Collecting Mako\n",
      "  Downloading Mako-1.1.5-py2.py3-none-any.whl (75 kB)\n",
      "Collecting PrettyTable>=0.7.2\n",
      "  Downloading prettytable-2.2.1-py3-none-any.whl (23 kB)\n",
      "Collecting stevedore>=2.0.1\n",
      "  Downloading stevedore-3.4.0-py3-none-any.whl (49 kB)\n",
      "Collecting cmd2>=1.0.0\n",
      "  Downloading cmd2-2.2.0-py3-none-any.whl (144 kB)\n",
      "Collecting autopage>=0.4.0\n",
      "  Downloading autopage-0.4.0-py3-none-any.whl (20 kB)\n",
      "Collecting pbr!=2.1.0,>=2.0.0\n",
      "  Downloading pbr-5.6.0-py2.py3-none-any.whl (111 kB)\n",
      "Requirement already satisfied: wcwidth>=0.1.7 in c:\\python\\lib\\site-packages (from cmd2>=1.0.0->cliff->optuna) (0.2.5)\n",
      "Collecting pyperclip>=1.6\n",
      "  Downloading pyperclip-1.8.2.tar.gz (20 kB)\n",
      "Requirement already satisfied: colorama>=0.3.7 in c:\\python\\lib\\site-packages (from cmd2>=1.0.0->cliff->optuna) (0.4.4)\n",
      "Collecting pyreadline3\n",
      "  Downloading pyreadline3-3.3-py3-none-any.whl (95 kB)\n",
      "Requirement already satisfied: attrs>=16.3.0 in c:\\python\\lib\\site-packages (from cmd2>=1.0.0->cliff->optuna) (20.3.0)\n",
      "Requirement already satisfied: zipp>=3.1.0 in c:\\python\\lib\\site-packages (from importlib-resources->alembic->optuna) (3.4.1)\n",
      "Requirement already satisfied: MarkupSafe>=0.9.2 in c:\\python\\lib\\site-packages (from Mako->alembic->optuna) (1.1.1)\n",
      "Building wheels for collected packages: pyperclip\n",
      "  Building wheel for pyperclip (setup.py): started\n",
      "  Building wheel for pyperclip (setup.py): finished with status 'done'\n",
      "  Created wheel for pyperclip: filename=pyperclip-1.8.2-py3-none-any.whl size=11107 sha256=bd91e3e21fdc71f2c809ee4ed4c0fd04d8052f191ae168a2c3a8f973fd942298\n",
      "  Stored in directory: c:\\users\\saurabh k vishwakarm\\appdata\\local\\pip\\cache\\wheels\\7f\\1a\\65\\84ff8c386bec21fca6d220ea1f5498a0367883a78dd5ba6122\n",
      "Successfully built pyperclip\n",
      "Installing collected packages: pyreadline3, pyperclip, pbr, stevedore, PrettyTable, Mako, importlib-resources, cmd2, autopage, colorlog, cmaes, cliff, alembic, optuna\n",
      "Successfully installed Mako-1.1.5 PrettyTable-2.2.1 alembic-1.7.3 autopage-0.4.0 cliff-3.9.0 cmaes-0.8.2 cmd2-2.2.0 colorlog-6.4.1 importlib-resources-5.2.2 optuna-2.9.1 pbr-5.6.0 pyperclip-1.8.2 pyreadline3-3.3 stevedore-3.4.0\n"
     ]
    }
   ],
   "source": [
    "!pip install optuna"
   ]
  },
  {
   "cell_type": "code",
   "execution_count": 41,
   "id": "39bc83d2",
   "metadata": {},
   "outputs": [],
   "source": [
    "import optuna\n",
    "import sklearn.svm\n",
    "def objective(trial):\n",
    "\n",
    "    classifier = trial.suggest_categorical('classifier', ['RandomForest', 'SVC'])\n",
    "    \n",
    "    if classifier == 'RandomForest':\n",
    "        n_estimators = trial.suggest_int('n_estimators', 200, 2000,10)\n",
    "        max_depth = int(trial.suggest_float('max_depth', 10, 100, log=True))\n",
    "\n",
    "        clf = sklearn.ensemble.RandomForestClassifier(\n",
    "            n_estimators=n_estimators, max_depth=max_depth)\n",
    "    else:\n",
    "        c = trial.suggest_float('svc_c', 1e-10, 1e10, log=True)\n",
    "        \n",
    "        clf = sklearn.svm.SVC(C=c, gamma='auto')\n",
    "\n",
    "    return sklearn.model_selection.cross_val_score(\n",
    "        clf,X_train,y_train, n_jobs=-1, cv=3).mean()"
   ]
  },
  {
   "cell_type": "code",
   "execution_count": 42,
   "id": "0a106163",
   "metadata": {},
   "outputs": [
    {
     "name": "stderr",
     "output_type": "stream",
     "text": [
      "\u001b[32m[I 2021-09-27 16:41:23,558]\u001b[0m A new study created in memory with name: no-name-f35d22ed-c8b2-41f8-88b2-ee3af04d9750\u001b[0m\n",
      "\u001b[32m[I 2021-09-27 16:41:36,235]\u001b[0m Trial 0 finished with value: 0.7475530049418141 and parameters: {'classifier': 'RandomForest', 'n_estimators': 1780, 'max_depth': 39.27723874374346}. Best is trial 0 with value: 0.7475530049418141.\u001b[0m\n",
      "\u001b[32m[I 2021-09-27 16:41:38,593]\u001b[0m Trial 1 finished with value: 0.640068547744301 and parameters: {'classifier': 'SVC', 'svc_c': 0.594750514738148}. Best is trial 0 with value: 0.7475530049418141.\u001b[0m\n",
      "\u001b[32m[I 2021-09-27 16:41:43,084]\u001b[0m Trial 2 finished with value: 0.7524310537223019 and parameters: {'classifier': 'RandomForest', 'n_estimators': 1020, 'max_depth': 66.25197711072983}. Best is trial 2 with value: 0.7524310537223019.\u001b[0m\n",
      "\u001b[32m[I 2021-09-27 16:41:50,951]\u001b[0m Trial 3 finished with value: 0.7540570699824646 and parameters: {'classifier': 'RandomForest', 'n_estimators': 1760, 'max_depth': 26.292511465881848}. Best is trial 3 with value: 0.7540570699824646.\u001b[0m\n",
      "\u001b[32m[I 2021-09-27 16:41:51,055]\u001b[0m Trial 4 finished with value: 0.640068547744301 and parameters: {'classifier': 'SVC', 'svc_c': 0.00023955254295960693}. Best is trial 3 with value: 0.7540570699824646.\u001b[0m\n",
      "\u001b[32m[I 2021-09-27 16:41:54,064]\u001b[0m Trial 5 finished with value: 0.7508130081300813 and parameters: {'classifier': 'RandomForest', 'n_estimators': 670, 'max_depth': 11.443601928664854}. Best is trial 3 with value: 0.7540570699824646.\u001b[0m\n",
      "\u001b[32m[I 2021-09-27 16:41:58,475]\u001b[0m Trial 6 finished with value: 0.7540570699824646 and parameters: {'classifier': 'RandomForest', 'n_estimators': 1010, 'max_depth': 27.862033635070542}. Best is trial 3 with value: 0.7540570699824646.\u001b[0m\n",
      "\u001b[32m[I 2021-09-27 16:42:00,911]\u001b[0m Trial 7 finished with value: 0.7540650406504065 and parameters: {'classifier': 'RandomForest', 'n_estimators': 540, 'max_depth': 69.07515128145168}. Best is trial 7 with value: 0.7540650406504065.\u001b[0m\n",
      "\u001b[32m[I 2021-09-27 16:42:01,044]\u001b[0m Trial 8 finished with value: 0.640068547744301 and parameters: {'classifier': 'SVC', 'svc_c': 0.016165188622403865}. Best is trial 7 with value: 0.7540650406504065.\u001b[0m\n",
      "\u001b[32m[I 2021-09-27 16:42:08,931]\u001b[0m Trial 9 finished with value: 0.7475530049418141 and parameters: {'classifier': 'RandomForest', 'n_estimators': 1780, 'max_depth': 65.18313384053782}. Best is trial 7 with value: 0.7540650406504065.\u001b[0m\n",
      "\u001b[32m[I 2021-09-27 16:42:09,237]\u001b[0m Trial 10 finished with value: 0.640068547744301 and parameters: {'classifier': 'SVC', 'svc_c': 5398237504.5234375}. Best is trial 7 with value: 0.7540650406504065.\u001b[0m\n",
      "\u001b[32m[I 2021-09-27 16:42:10,439]\u001b[0m Trial 11 finished with value: 0.7393910409692332 and parameters: {'classifier': 'RandomForest', 'n_estimators': 250, 'max_depth': 23.35152417045809}. Best is trial 7 with value: 0.7540650406504065.\u001b[0m\n",
      "\u001b[32m[I 2021-09-27 16:42:16,704]\u001b[0m Trial 12 finished with value: 0.7507890961262554 and parameters: {'classifier': 'RandomForest', 'n_estimators': 1430, 'max_depth': 92.8442999222003}. Best is trial 7 with value: 0.7540650406504065.\u001b[0m\n",
      "\u001b[32m[I 2021-09-27 16:42:18,678]\u001b[0m Trial 13 finished with value: 0.7426430734895585 and parameters: {'classifier': 'RandomForest', 'n_estimators': 430, 'max_depth': 15.760731297865677}. Best is trial 7 with value: 0.7540650406504065.\u001b[0m\n",
      "\u001b[32m[I 2021-09-27 16:42:25,001]\u001b[0m Trial 14 finished with value: 0.7540570699824646 and parameters: {'classifier': 'RandomForest', 'n_estimators': 1440, 'max_depth': 40.79202394605247}. Best is trial 7 with value: 0.7540650406504065.\u001b[0m\n",
      "\u001b[32m[I 2021-09-27 16:42:28,075]\u001b[0m Trial 15 finished with value: 0.7475450342738722 and parameters: {'classifier': 'RandomForest', 'n_estimators': 700, 'max_depth': 51.970291575718655}. Best is trial 7 with value: 0.7540650406504065.\u001b[0m\n",
      "\u001b[32m[I 2021-09-27 16:42:37,007]\u001b[0m Trial 16 finished with value: 0.7475450342738722 and parameters: {'classifier': 'RandomForest', 'n_estimators': 1940, 'max_depth': 19.199206966486134}. Best is trial 7 with value: 0.7540650406504065.\u001b[0m\n",
      "\u001b[32m[I 2021-09-27 16:42:43,343]\u001b[0m Trial 17 finished with value: 0.7556830862426271 and parameters: {'classifier': 'RandomForest', 'n_estimators': 1340, 'max_depth': 40.629963060603714}. Best is trial 17 with value: 0.7556830862426271.\u001b[0m\n",
      "\u001b[32m[I 2021-09-27 16:42:43,451]\u001b[0m Trial 18 finished with value: 0.640068547744301 and parameters: {'classifier': 'SVC', 'svc_c': 1.9156313727823217e-09}. Best is trial 17 with value: 0.7556830862426271.\u001b[0m\n",
      "\u001b[32m[I 2021-09-27 16:42:49,355]\u001b[0m Trial 19 finished with value: 0.7491630798660928 and parameters: {'classifier': 'RandomForest', 'n_estimators': 1280, 'max_depth': 96.67515713790759}. Best is trial 17 with value: 0.7556830862426271.\u001b[0m\n",
      "\u001b[32m[I 2021-09-27 16:42:52,848]\u001b[0m Trial 20 finished with value: 0.75242308305436 and parameters: {'classifier': 'RandomForest', 'n_estimators': 780, 'max_depth': 39.448712048477816}. Best is trial 17 with value: 0.7556830862426271.\u001b[0m\n",
      "\u001b[32m[I 2021-09-27 16:42:59,870]\u001b[0m Trial 21 finished with value: 0.7508130081300813 and parameters: {'classifier': 'RandomForest', 'n_estimators': 1600, 'max_depth': 29.419547239571816}. Best is trial 17 with value: 0.7556830862426271.\u001b[0m\n",
      "\u001b[32m[I 2021-09-27 16:43:05,269]\u001b[0m Trial 22 finished with value: 0.7556910569105691 and parameters: {'classifier': 'RandomForest', 'n_estimators': 1180, 'max_depth': 57.58175852438625}. Best is trial 22 with value: 0.7556910569105691.\u001b[0m\n",
      "\u001b[32m[I 2021-09-27 16:43:10,779]\u001b[0m Trial 23 finished with value: 0.7508130081300813 and parameters: {'classifier': 'RandomForest', 'n_estimators': 1240, 'max_depth': 62.10370065193392}. Best is trial 22 with value: 0.7556910569105691.\u001b[0m\n",
      "\u001b[32m[I 2021-09-27 16:43:14,664]\u001b[0m Trial 24 finished with value: 0.755699027578511 and parameters: {'classifier': 'RandomForest', 'n_estimators': 880, 'max_depth': 50.09074459011601}. Best is trial 24 with value: 0.755699027578511.\u001b[0m\n",
      "\u001b[32m[I 2021-09-27 16:43:18,371]\u001b[0m Trial 25 finished with value: 0.7540570699824646 and parameters: {'classifier': 'RandomForest', 'n_estimators': 840, 'max_depth': 50.74367641309835}. Best is trial 24 with value: 0.755699027578511.\u001b[0m\n",
      "\u001b[32m[I 2021-09-27 16:43:23,136]\u001b[0m Trial 26 finished with value: 0.7524310537223019 and parameters: {'classifier': 'RandomForest', 'n_estimators': 1080, 'max_depth': 44.56455854614546}. Best is trial 24 with value: 0.755699027578511.\u001b[0m\n",
      "\u001b[32m[I 2021-09-27 16:43:23,277]\u001b[0m Trial 27 finished with value: 0.640068547744301 and parameters: {'classifier': 'SVC', 'svc_c': 1777676520.9362843}. Best is trial 24 with value: 0.755699027578511.\u001b[0m\n",
      "\u001b[32m[I 2021-09-27 16:43:28,846]\u001b[0m Trial 28 finished with value: 0.7491790212019768 and parameters: {'classifier': 'RandomForest', 'n_estimators': 1280, 'max_depth': 34.61551225766966}. Best is trial 24 with value: 0.755699027578511.\u001b[0m\n",
      "\u001b[32m[I 2021-09-27 16:43:33,054]\u001b[0m Trial 29 finished with value: 0.7573250438386737 and parameters: {'classifier': 'RandomForest', 'n_estimators': 960, 'max_depth': 54.515893826597626}. Best is trial 29 with value: 0.7573250438386737.\u001b[0m\n",
      "\u001b[32m[I 2021-09-27 16:43:36,982]\u001b[0m Trial 30 finished with value: 0.7475450342738722 and parameters: {'classifier': 'RandomForest', 'n_estimators': 880, 'max_depth': 52.52069860439274}. Best is trial 29 with value: 0.7573250438386737.\u001b[0m\n",
      "\u001b[32m[I 2021-09-27 16:43:42,167]\u001b[0m Trial 31 finished with value: 0.7507970667941973 and parameters: {'classifier': 'RandomForest', 'n_estimators': 1180, 'max_depth': 78.87906598480782}. Best is trial 29 with value: 0.7573250438386737.\u001b[0m\n",
      "\u001b[32m[I 2021-09-27 16:43:46,568]\u001b[0m Trial 32 finished with value: 0.7459190180137095 and parameters: {'classifier': 'RandomForest', 'n_estimators': 990, 'max_depth': 53.24032191420476}. Best is trial 29 with value: 0.7573250438386737.\u001b[0m\n",
      "\u001b[32m[I 2021-09-27 16:43:53,224]\u001b[0m Trial 33 finished with value: 0.7540570699824646 and parameters: {'classifier': 'RandomForest', 'n_estimators': 1520, 'max_depth': 33.852621600442745}. Best is trial 29 with value: 0.7573250438386737.\u001b[0m\n",
      "\u001b[32m[I 2021-09-27 16:43:58,282]\u001b[0m Trial 34 finished with value: 0.7508130081300813 and parameters: {'classifier': 'RandomForest', 'n_estimators': 1150, 'max_depth': 47.23237011966609}. Best is trial 29 with value: 0.7573250438386737.\u001b[0m\n",
      "\u001b[32m[I 2021-09-27 16:43:58,433]\u001b[0m Trial 35 finished with value: 0.640068547744301 and parameters: {'classifier': 'SVC', 'svc_c': 24487.049696420254}. Best is trial 29 with value: 0.7573250438386737.\u001b[0m\n",
      "\u001b[32m[I 2021-09-27 16:44:02,411]\u001b[0m Trial 36 finished with value: 0.7524310537223019 and parameters: {'classifier': 'RandomForest', 'n_estimators': 900, 'max_depth': 77.67174990368981}. Best is trial 29 with value: 0.7573250438386737.\u001b[0m\n",
      "\u001b[32m[I 2021-09-27 16:44:08,421]\u001b[0m Trial 37 finished with value: 0.7491790212019768 and parameters: {'classifier': 'RandomForest', 'n_estimators': 1370, 'max_depth': 36.79267197940814}. Best is trial 29 with value: 0.7573250438386737.\u001b[0m\n",
      "\u001b[32m[I 2021-09-27 16:44:13,278]\u001b[0m Trial 38 finished with value: 0.7508050374621393 and parameters: {'classifier': 'RandomForest', 'n_estimators': 1090, 'max_depth': 60.38055199935995}. Best is trial 29 with value: 0.7573250438386737.\u001b[0m\n",
      "\u001b[32m[I 2021-09-27 16:44:13,384]\u001b[0m Trial 39 finished with value: 0.640068547744301 and parameters: {'classifier': 'SVC', 'svc_c': 2.6288969954662367e-10}. Best is trial 29 with value: 0.7573250438386737.\u001b[0m\n",
      "\u001b[32m[I 2021-09-27 16:44:20,489]\u001b[0m Trial 40 finished with value: 0.7508050374621393 and parameters: {'classifier': 'RandomForest', 'n_estimators': 1600, 'max_depth': 43.54896793327955}. Best is trial 29 with value: 0.7573250438386737.\u001b[0m\n",
      "\u001b[32m[I 2021-09-27 16:44:22,463]\u001b[0m Trial 41 finished with value: 0.7475609756097561 and parameters: {'classifier': 'RandomForest', 'n_estimators': 440, 'max_depth': 72.79406129202566}. Best is trial 29 with value: 0.7573250438386737.\u001b[0m\n",
      "\u001b[32m[I 2021-09-27 16:44:24,969]\u001b[0m Trial 42 finished with value: 0.7459269886816515 and parameters: {'classifier': 'RandomForest', 'n_estimators': 560, 'max_depth': 56.85777695177546}. Best is trial 29 with value: 0.7573250438386737.\u001b[0m\n",
      "\u001b[32m[I 2021-09-27 16:44:28,151]\u001b[0m Trial 43 finished with value: 0.7507890961262554 and parameters: {'classifier': 'RandomForest', 'n_estimators': 700, 'max_depth': 71.10165439514735}. Best is trial 29 with value: 0.7573250438386737.\u001b[0m\n",
      "\u001b[32m[I 2021-09-27 16:44:32,331]\u001b[0m Trial 44 finished with value: 0.7491630798660928 and parameters: {'classifier': 'RandomForest', 'n_estimators': 960, 'max_depth': 46.17083317217613}. Best is trial 29 with value: 0.7573250438386737.\u001b[0m\n",
      "\u001b[32m[I 2021-09-27 16:44:34,866]\u001b[0m Trial 45 finished with value: 0.7459190180137095 and parameters: {'classifier': 'RandomForest', 'n_estimators': 560, 'max_depth': 82.95807122285913}. Best is trial 29 with value: 0.7573250438386737.\u001b[0m\n",
      "\u001b[32m[I 2021-09-27 16:44:36,214]\u001b[0m Trial 46 finished with value: 0.7410329985652798 and parameters: {'classifier': 'RandomForest', 'n_estimators': 270, 'max_depth': 68.09170594351487}. Best is trial 29 with value: 0.7573250438386737.\u001b[0m\n",
      "\u001b[32m[I 2021-09-27 16:44:36,350]\u001b[0m Trial 47 finished with value: 0.640068547744301 and parameters: {'classifier': 'SVC', 'svc_c': 33840.144980289326}. Best is trial 29 with value: 0.7573250438386737.\u001b[0m\n",
      "\u001b[32m[I 2021-09-27 16:44:40,020]\u001b[0m Trial 48 finished with value: 0.7507970667941973 and parameters: {'classifier': 'RandomForest', 'n_estimators': 800, 'max_depth': 57.392952178762165}. Best is trial 29 with value: 0.7573250438386737.\u001b[0m\n",
      "\u001b[32m[I 2021-09-27 16:44:44,623]\u001b[0m Trial 49 finished with value: 0.7491790212019768 and parameters: {'classifier': 'RandomForest', 'n_estimators': 1060, 'max_depth': 10.369727554287557}. Best is trial 29 with value: 0.7573250438386737.\u001b[0m\n",
      "\u001b[32m[I 2021-09-27 16:44:47,342]\u001b[0m Trial 50 finished with value: 0.7524390243902439 and parameters: {'classifier': 'RandomForest', 'n_estimators': 610, 'max_depth': 62.27432852906305}. Best is trial 29 with value: 0.7573250438386737.\u001b[0m\n",
      "\u001b[32m[I 2021-09-27 16:44:51,191]\u001b[0m Trial 51 finished with value: 0.7573091025027897 and parameters: {'classifier': 'RandomForest', 'n_estimators': 870, 'max_depth': 49.41863561919254}. Best is trial 29 with value: 0.7573250438386737.\u001b[0m\n",
      "\u001b[32m[I 2021-09-27 16:44:56,071]\u001b[0m Trial 52 finished with value: 0.7475450342738722 and parameters: {'classifier': 'RandomForest', 'n_estimators': 950, 'max_depth': 47.292159154335096}. Best is trial 29 with value: 0.7573250438386737.\u001b[0m\n",
      "\u001b[32m[I 2021-09-27 16:44:58,258]\u001b[0m Trial 53 finished with value: 0.7556830862426271 and parameters: {'classifier': 'RandomForest', 'n_estimators': 430, 'max_depth': 40.107519198010166}. Best is trial 29 with value: 0.7573250438386737.\u001b[0m\n",
      "\u001b[32m[I 2021-09-27 16:45:00,192]\u001b[0m Trial 54 finished with value: 0.7491710505340348 and parameters: {'classifier': 'RandomForest', 'n_estimators': 390, 'max_depth': 39.3164598847551}. Best is trial 29 with value: 0.7573250438386737.\u001b[0m\n",
      "\u001b[32m[I 2021-09-27 16:45:05,754]\u001b[0m Trial 55 finished with value: 0.7589510600988363 and parameters: {'classifier': 'RandomForest', 'n_estimators': 1200, 'max_depth': 31.7400959328648}. Best is trial 55 with value: 0.7589510600988363.\u001b[0m\n",
      "\u001b[32m[I 2021-09-27 16:45:11,877]\u001b[0m Trial 56 finished with value: 0.7524310537223019 and parameters: {'classifier': 'RandomForest', 'n_estimators': 1370, 'max_depth': 31.303580510784645}. Best is trial 55 with value: 0.7589510600988363.\u001b[0m\n",
      "\u001b[32m[I 2021-09-27 16:45:17,065]\u001b[0m Trial 57 finished with value: 0.7540650406504065 and parameters: {'classifier': 'RandomForest', 'n_estimators': 1170, 'max_depth': 25.552008989286712}. Best is trial 55 with value: 0.7589510600988363.\u001b[0m\n",
      "\u001b[32m[I 2021-09-27 16:45:17,167]\u001b[0m Trial 58 finished with value: 0.640068547744301 and parameters: {'classifier': 'SVC', 'svc_c': 2.755517977250381e-06}. Best is trial 55 with value: 0.7589510600988363.\u001b[0m\n",
      "\u001b[32m[I 2021-09-27 16:45:20,490]\u001b[0m Trial 59 finished with value: 0.7491790212019768 and parameters: {'classifier': 'RandomForest', 'n_estimators': 750, 'max_depth': 19.379669297263305}. Best is trial 55 with value: 0.7589510600988363.\u001b[0m\n",
      "\u001b[32m[I 2021-09-27 16:45:25,817]\u001b[0m Trial 60 finished with value: 0.7524310537223019 and parameters: {'classifier': 'RandomForest', 'n_estimators': 1220, 'max_depth': 27.00543915725036}. Best is trial 55 with value: 0.7589510600988363.\u001b[0m\n",
      "\u001b[32m[I 2021-09-27 16:45:31,828]\u001b[0m Trial 61 finished with value: 0.7508050374621393 and parameters: {'classifier': 'RandomForest', 'n_estimators': 1350, 'max_depth': 42.453119390773296}. Best is trial 55 with value: 0.7589510600988363.\u001b[0m\n",
      "\u001b[32m[I 2021-09-27 16:45:36,431]\u001b[0m Trial 62 finished with value: 0.7459269886816515 and parameters: {'classifier': 'RandomForest', 'n_estimators': 1040, 'max_depth': 37.43440585097142}. Best is trial 55 with value: 0.7589510600988363.\u001b[0m\n",
      "\u001b[32m[I 2021-09-27 16:45:42,130]\u001b[0m Trial 63 finished with value: 0.7508130081300813 and parameters: {'classifier': 'RandomForest', 'n_estimators': 1310, 'max_depth': 33.67201145312596}. Best is trial 55 with value: 0.7589510600988363.\u001b[0m\n",
      "\u001b[32m[I 2021-09-27 16:45:48,820]\u001b[0m Trial 64 finished with value: 0.7556910569105691 and parameters: {'classifier': 'RandomForest', 'n_estimators': 1460, 'max_depth': 49.64686175887137}. Best is trial 55 with value: 0.7589510600988363.\u001b[0m\n",
      "\u001b[32m[I 2021-09-27 16:45:55,329]\u001b[0m Trial 65 finished with value: 0.7475530049418141 and parameters: {'classifier': 'RandomForest', 'n_estimators': 1490, 'max_depth': 51.50854645394813}. Best is trial 55 with value: 0.7589510600988363.\u001b[0m\n",
      "\u001b[32m[I 2021-09-27 16:46:02,767]\u001b[0m Trial 66 finished with value: 0.7524310537223019 and parameters: {'classifier': 'RandomForest', 'n_estimators': 1690, 'max_depth': 56.43334686693311}. Best is trial 55 with value: 0.7589510600988363.\u001b[0m\n",
      "\u001b[32m[I 2021-09-27 16:46:07,705]\u001b[0m Trial 67 finished with value: 0.7507970667941973 and parameters: {'classifier': 'RandomForest', 'n_estimators': 1130, 'max_depth': 47.69055594452123}. Best is trial 55 with value: 0.7589510600988363.\u001b[0m\n",
      "\u001b[32m[I 2021-09-27 16:46:14,212]\u001b[0m Trial 68 finished with value: 0.7507970667941973 and parameters: {'classifier': 'RandomForest', 'n_estimators': 1470, 'max_depth': 30.062694454911348}. Best is trial 55 with value: 0.7589510600988363.\u001b[0m\n",
      "\u001b[32m[I 2021-09-27 16:46:14,362]\u001b[0m Trial 69 finished with value: 0.640068547744301 and parameters: {'classifier': 'SVC', 'svc_c': 980.3992907848283}. Best is trial 55 with value: 0.7589510600988363.\u001b[0m\n",
      "\u001b[32m[I 2021-09-27 16:46:18,036]\u001b[0m Trial 70 finished with value: 0.7540570699824646 and parameters: {'classifier': 'RandomForest', 'n_estimators': 840, 'max_depth': 41.709285734491004}. Best is trial 55 with value: 0.7589510600988363.\u001b[0m\n",
      "\u001b[32m[I 2021-09-27 16:46:23,596]\u001b[0m Trial 71 finished with value: 0.7459190180137095 and parameters: {'classifier': 'RandomForest', 'n_estimators': 1250, 'max_depth': 49.55674444087305}. Best is trial 55 with value: 0.7589510600988363.\u001b[0m\n",
      "\u001b[32m[I 2021-09-27 16:46:30,635]\u001b[0m Trial 72 finished with value: 0.7491790212019768 and parameters: {'classifier': 'RandomForest', 'n_estimators': 1570, 'max_depth': 39.000118304655494}. Best is trial 55 with value: 0.7589510600988363.\u001b[0m\n",
      "\u001b[32m[I 2021-09-27 16:46:37,011]\u001b[0m Trial 73 finished with value: 0.7475530049418141 and parameters: {'classifier': 'RandomForest', 'n_estimators': 1400, 'max_depth': 35.82375508401132}. Best is trial 55 with value: 0.7589510600988363.\u001b[0m\n",
      "\u001b[32m[I 2021-09-27 16:46:45,644]\u001b[0m Trial 74 finished with value: 0.7491790212019768 and parameters: {'classifier': 'RandomForest', 'n_estimators': 1900, 'max_depth': 54.81720228336908}. Best is trial 55 with value: 0.7589510600988363.\u001b[0m\n",
      "\u001b[32m[I 2021-09-27 16:46:49,643]\u001b[0m Trial 75 finished with value: 0.7508130081300813 and parameters: {'classifier': 'RandomForest', 'n_estimators': 890, 'max_depth': 42.33226693026371}. Best is trial 55 with value: 0.7589510600988363.\u001b[0m\n",
      "\u001b[32m[I 2021-09-27 16:46:55,001]\u001b[0m Trial 76 finished with value: 0.7442770604176631 and parameters: {'classifier': 'RandomForest', 'n_estimators': 1220, 'max_depth': 63.23473745267554}. Best is trial 55 with value: 0.7589510600988363.\u001b[0m\n",
      "\u001b[32m[I 2021-09-27 16:46:59,485]\u001b[0m Trial 77 finished with value: 0.7491630798660928 and parameters: {'classifier': 'RandomForest', 'n_estimators': 1010, 'max_depth': 45.13914601692647}. Best is trial 55 with value: 0.7589510600988363.\u001b[0m\n",
      "\u001b[32m[I 2021-09-27 16:47:05,970]\u001b[0m Trial 78 finished with value: 0.7491710505340348 and parameters: {'classifier': 'RandomForest', 'n_estimators': 1310, 'max_depth': 33.47468944849605}. Best is trial 55 with value: 0.7589510600988363.\u001b[0m\n",
      "\u001b[32m[I 2021-09-27 16:47:13,294]\u001b[0m Trial 79 finished with value: 0.7524390243902439 and parameters: {'classifier': 'RandomForest', 'n_estimators': 1680, 'max_depth': 50.536879884371615}. Best is trial 55 with value: 0.7589510600988363.\u001b[0m\n",
      "\u001b[32m[I 2021-09-27 16:47:17,373]\u001b[0m Trial 80 finished with value: 0.7491869918699187 and parameters: {'classifier': 'RandomForest', 'n_estimators': 930, 'max_depth': 59.62016194958049}. Best is trial 55 with value: 0.7589510600988363.\u001b[0m\n",
      "\u001b[32m[I 2021-09-27 16:47:19,015]\u001b[0m Trial 81 finished with value: 0.744285031085605 and parameters: {'classifier': 'RandomForest', 'n_estimators': 370, 'max_depth': 67.2036471577096}. Best is trial 55 with value: 0.7589510600988363.\u001b[0m\n",
      "\u001b[32m[I 2021-09-27 16:47:21,815]\u001b[0m Trial 82 finished with value: 0.7394149529730591 and parameters: {'classifier': 'RandomForest', 'n_estimators': 630, 'max_depth': 54.239328806027984}. Best is trial 55 with value: 0.7589510600988363.\u001b[0m\n",
      "\u001b[32m[I 2021-09-27 16:47:26,790]\u001b[0m Trial 83 finished with value: 0.7540650406504065 and parameters: {'classifier': 'RandomForest', 'n_estimators': 1140, 'max_depth': 26.358714915096215}. Best is trial 55 with value: 0.7589510600988363.\u001b[0m\n",
      "\u001b[32m[I 2021-09-27 16:47:31,986]\u001b[0m Trial 84 finished with value: 0.7475530049418141 and parameters: {'classifier': 'RandomForest', 'n_estimators': 1180, 'max_depth': 24.7401433145909}. Best is trial 55 with value: 0.7589510600988363.\u001b[0m\n",
      "\u001b[32m[I 2021-09-27 16:47:36,408]\u001b[0m Trial 85 finished with value: 0.7475450342738722 and parameters: {'classifier': 'RandomForest', 'n_estimators': 1000, 'max_depth': 20.692515752440993}. Best is trial 55 with value: 0.7589510600988363.\u001b[0m\n",
      "\u001b[32m[I 2021-09-27 16:47:41,311]\u001b[0m Trial 86 finished with value: 0.7491710505340348 and parameters: {'classifier': 'RandomForest', 'n_estimators': 1110, 'max_depth': 22.285413774691065}. Best is trial 55 with value: 0.7589510600988363.\u001b[0m\n",
      "\u001b[32m[I 2021-09-27 16:47:41,413]\u001b[0m Trial 87 finished with value: 0.640068547744301 and parameters: {'classifier': 'SVC', 'svc_c': 2.4748869793095665e-06}. Best is trial 55 with value: 0.7589510600988363.\u001b[0m\n",
      "\u001b[32m[I 2021-09-27 16:47:46,666]\u001b[0m Trial 88 finished with value: 0.7540570699824646 and parameters: {'classifier': 'RandomForest', 'n_estimators': 1200, 'max_depth': 16.102389891109347}. Best is trial 55 with value: 0.7589510600988363.\u001b[0m\n",
      "\u001b[32m[I 2021-09-27 16:47:52,346]\u001b[0m Trial 89 finished with value: 0.7573170731707317 and parameters: {'classifier': 'RandomForest', 'n_estimators': 1270, 'max_depth': 39.25754368630024}. Best is trial 55 with value: 0.7589510600988363.\u001b[0m\n",
      "\u001b[32m[I 2021-09-27 16:47:58,750]\u001b[0m Trial 90 finished with value: 0.7540570699824646 and parameters: {'classifier': 'RandomForest', 'n_estimators': 1430, 'max_depth': 39.43110078500693}. Best is trial 55 with value: 0.7589510600988363.\u001b[0m\n",
      "\u001b[32m[I 2021-09-27 16:48:04,468]\u001b[0m Trial 91 finished with value: 0.7491869918699187 and parameters: {'classifier': 'RandomForest', 'n_estimators': 1290, 'max_depth': 32.10533460152496}. Best is trial 55 with value: 0.7589510600988363.\u001b[0m\n",
      "\u001b[32m[I 2021-09-27 16:48:06,783]\u001b[0m Trial 92 finished with value: 0.7524390243902439 and parameters: {'classifier': 'RandomForest', 'n_estimators': 510, 'max_depth': 48.83637784712279}. Best is trial 55 with value: 0.7589510600988363.\u001b[0m\n",
      "\u001b[32m[I 2021-09-27 16:48:08,837]\u001b[0m Trial 93 finished with value: 0.7475290929379882 and parameters: {'classifier': 'RandomForest', 'n_estimators': 460, 'max_depth': 86.8258528765526}. Best is trial 55 with value: 0.7589510600988363.\u001b[0m\n",
      "\u001b[32m[I 2021-09-27 16:48:13,609]\u001b[0m Trial 94 finished with value: 0.7507970667941973 and parameters: {'classifier': 'RandomForest', 'n_estimators': 1080, 'max_depth': 29.449375275267126}. Best is trial 55 with value: 0.7589510600988363.\u001b[0m\n",
      "\u001b[32m[I 2021-09-27 16:48:14,595]\u001b[0m Trial 95 finished with value: 0.7361629204527339 and parameters: {'classifier': 'RandomForest', 'n_estimators': 210, 'max_depth': 44.668415298965925}. Best is trial 55 with value: 0.7589510600988363.\u001b[0m\n",
      "\u001b[32m[I 2021-09-27 16:48:20,454]\u001b[0m Trial 96 finished with value: 0.7589351187629524 and parameters: {'classifier': 'RandomForest', 'n_estimators': 1340, 'max_depth': 37.317924156427836}. Best is trial 55 with value: 0.7589510600988363.\u001b[0m\n",
      "\u001b[32m[I 2021-09-27 16:48:27,110]\u001b[0m Trial 97 finished with value: 0.7540490993145226 and parameters: {'classifier': 'RandomForest', 'n_estimators': 1530, 'max_depth': 35.72967904978432}. Best is trial 55 with value: 0.7589510600988363.\u001b[0m\n",
      "\u001b[32m[I 2021-09-27 16:48:27,244]\u001b[0m Trial 98 finished with value: 0.640068547744301 and parameters: {'classifier': 'SVC', 'svc_c': 54.535639800931165}. Best is trial 55 with value: 0.7589510600988363.\u001b[0m\n",
      "\u001b[32m[I 2021-09-27 16:48:33,089]\u001b[0m Trial 99 finished with value: 0.7475530049418141 and parameters: {'classifier': 'RandomForest', 'n_estimators': 1340, 'max_depth': 37.33360553190603}. Best is trial 55 with value: 0.7589510600988363.\u001b[0m\n"
     ]
    },
    {
     "name": "stdout",
     "output_type": "stream",
     "text": [
      "Accuracy: 0.7589510600988363\n",
      "Best hyperparameters: {'classifier': 'RandomForest', 'n_estimators': 1200, 'max_depth': 31.7400959328648}\n"
     ]
    }
   ],
   "source": [
    "study = optuna.create_study(direction='maximize')\n",
    "study.optimize(objective, n_trials=100)\n",
    "\n",
    "trial = study.best_trial\n",
    "\n",
    "print('Accuracy: {}'.format(trial.value))\n",
    "print(\"Best hyperparameters: {}\".format(trial.params))"
   ]
  },
  {
   "cell_type": "code",
   "execution_count": 43,
   "id": "d66ab1e0",
   "metadata": {},
   "outputs": [
    {
     "data": {
      "text/plain": [
       "FrozenTrial(number=55, values=[0.7589510600988363], datetime_start=datetime.datetime(2021, 9, 27, 16, 45, 0, 192792), datetime_complete=datetime.datetime(2021, 9, 27, 16, 45, 5, 754947), params={'classifier': 'RandomForest', 'n_estimators': 1200, 'max_depth': 31.7400959328648}, distributions={'classifier': CategoricalDistribution(choices=('RandomForest', 'SVC')), 'n_estimators': IntUniformDistribution(high=2000, low=200, step=10), 'max_depth': LogUniformDistribution(high=100.0, low=10.0)}, user_attrs={}, system_attrs={}, intermediate_values={}, trial_id=55, state=TrialState.COMPLETE, value=None)"
      ]
     },
     "execution_count": 43,
     "metadata": {},
     "output_type": "execute_result"
    }
   ],
   "source": [
    "trial"
   ]
  },
  {
   "cell_type": "code",
   "execution_count": 44,
   "id": "6b60f98a",
   "metadata": {},
   "outputs": [
    {
     "data": {
      "text/plain": [
       "{'classifier': 'RandomForest',\n",
       " 'n_estimators': 1200,\n",
       " 'max_depth': 31.7400959328648}"
      ]
     },
     "execution_count": 44,
     "metadata": {},
     "output_type": "execute_result"
    }
   ],
   "source": [
    "study.best_params"
   ]
  },
  {
   "cell_type": "code",
   "execution_count": 45,
   "id": "70c14592",
   "metadata": {},
   "outputs": [
    {
     "data": {
      "text/plain": [
       "RandomForestClassifier(max_depth=30, n_estimators=330)"
      ]
     },
     "execution_count": 45,
     "metadata": {},
     "output_type": "execute_result"
    }
   ],
   "source": [
    "rf=RandomForestClassifier(n_estimators=330,max_depth=30)\n",
    "rf.fit(X_train,y_train)"
   ]
  },
  {
   "cell_type": "code",
   "execution_count": 46,
   "id": "574e02fc",
   "metadata": {},
   "outputs": [
    {
     "name": "stdout",
     "output_type": "stream",
     "text": [
      "[[95 12]\n",
      " [16 31]]\n",
      "0.8181818181818182\n",
      "              precision    recall  f1-score   support\n",
      "\n",
      "           0       0.86      0.89      0.87       107\n",
      "           1       0.72      0.66      0.69        47\n",
      "\n",
      "    accuracy                           0.82       154\n",
      "   macro avg       0.79      0.77      0.78       154\n",
      "weighted avg       0.81      0.82      0.82       154\n",
      "\n"
     ]
    }
   ],
   "source": [
    "y_pred=rf.predict(X_test)\n",
    "print(confusion_matrix(y_test,y_pred))\n",
    "print(accuracy_score(y_test,y_pred))\n",
    "print(classification_report(y_test,y_pred))"
   ]
  },
  {
   "cell_type": "markdown",
   "id": "8581c3c2",
   "metadata": {},
   "source": [
    "-----"
   ]
  },
  {
   "cell_type": "code",
   "execution_count": null,
   "id": "9fc3f2fa",
   "metadata": {},
   "outputs": [],
   "source": []
  }
 ],
 "metadata": {
  "kernelspec": {
   "display_name": "Python 3",
   "language": "python",
   "name": "python3"
  },
  "language_info": {
   "codemirror_mode": {
    "name": "ipython",
    "version": 3
   },
   "file_extension": ".py",
   "mimetype": "text/x-python",
   "name": "python",
   "nbconvert_exporter": "python",
   "pygments_lexer": "ipython3",
   "version": "3.8.8"
  }
 },
 "nbformat": 4,
 "nbformat_minor": 5
}
