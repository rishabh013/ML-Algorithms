{
 "cells": [
  {
   "cell_type": "markdown",
   "id": "c6fce772",
   "metadata": {},
   "source": [
    "### Creating database in MySQL"
   ]
  },
  {
   "cell_type": "code",
   "execution_count": 1,
   "id": "3c2e7f12",
   "metadata": {},
   "outputs": [],
   "source": [
    "#!pip install mysql-connector-python"
   ]
  },
  {
   "cell_type": "code",
   "execution_count": 2,
   "id": "0e56ac22",
   "metadata": {},
   "outputs": [
    {
     "name": "stdout",
     "output_type": "stream",
     "text": [
      "<mysql.connector.connection_cext.CMySQLConnection object at 0x0000024A6D9216A0>\n"
     ]
    }
   ],
   "source": [
    "## Create SQL Connection\n",
    "import mysql.connector as sql\n",
    "\n",
    "connection = sql.connect(\n",
    "      host = \"localhost\",\n",
    "      user = \"root\",\n",
    "    password = \"88080\"\n",
    ")\n",
    "print(connection)"
   ]
  },
  {
   "cell_type": "code",
   "execution_count": 4,
   "id": "3e77a0b0",
   "metadata": {},
   "outputs": [],
   "source": [
    "cursor = connection.cursor()\n",
    "cursor.execute(\"CREATE DATABASE manu\")"
   ]
  },
  {
   "cell_type": "code",
   "execution_count": 5,
   "id": "92eb90e6",
   "metadata": {},
   "outputs": [],
   "source": [
    "cursor.execute(\"SHOW DATABASES\")"
   ]
  },
  {
   "cell_type": "code",
   "execution_count": 6,
   "id": "a24581fd",
   "metadata": {},
   "outputs": [
    {
     "name": "stdout",
     "output_type": "stream",
     "text": [
      "('information_schema',)\n",
      "('manu',)\n",
      "('mysql',)\n",
      "('performance_schema',)\n",
      "('rishabh',)\n",
      "('rishu',)\n",
      "('sakila',)\n",
      "('sys',)\n",
      "('world',)\n"
     ]
    }
   ],
   "source": [
    "for database in cursor:\n",
    "    print(database)"
   ]
  },
  {
   "cell_type": "markdown",
   "id": "f38c72e2",
   "metadata": {},
   "source": [
    "### 1.Create Table In MySQL using Python\n"
   ]
  },
  {
   "cell_type": "code",
   "execution_count": 7,
   "id": "643b9da4",
   "metadata": {},
   "outputs": [
    {
     "name": "stdout",
     "output_type": "stream",
     "text": [
      "<mysql.connector.connection_cext.CMySQLConnection object at 0x0000024A6DAFF100>\n"
     ]
    }
   ],
   "source": [
    "import mysql.connector as sql\n",
    "\n",
    "connection = sql.connect(\n",
    "      host = \"localhost\",\n",
    "      user = \"root\",\n",
    "      password = \"88080\",\n",
    "      database=\"manu\"\n",
    "\n",
    ")\n",
    "print(connection)"
   ]
  },
  {
   "cell_type": "code",
   "execution_count": 8,
   "id": "091f4016",
   "metadata": {},
   "outputs": [],
   "source": [
    "cursor = connection.cursor()\n",
    "cursor.execute(\"CREATE TABLE manuinfo (id INT AUTO_INCREMENT PRIMARY KEY, name VARCHAR(255), subject VARCHAR(255))\")"
   ]
  },
  {
   "cell_type": "markdown",
   "id": "13aa2481",
   "metadata": {},
   "source": [
    "### Insert records in table"
   ]
  },
  {
   "cell_type": "code",
   "execution_count": 10,
   "id": "dea5bafc",
   "metadata": {},
   "outputs": [
    {
     "name": "stdout",
     "output_type": "stream",
     "text": [
      "Row inserted 1\n"
     ]
    }
   ],
   "source": [
    "query = \"INSERT INTO manuinfo (name, subject) VALUES (%s, %s)\"\n",
    "value = (\"rohit\", \"math\")            # rohit is \"name\", math is \"subject\"        \n",
    "cursor.execute(query,value)\n",
    "print(\"Row inserted\",cursor.lastrowid)"
   ]
  },
  {
   "cell_type": "code",
   "execution_count": 11,
   "id": "c7c6c984",
   "metadata": {},
   "outputs": [
    {
     "name": "stdout",
     "output_type": "stream",
     "text": [
      "Row inserted 2\n"
     ]
    }
   ],
   "source": [
    "### Insert multiple records in Table\n",
    "query = \"INSERT INTO manuinfo (name, subject) VALUES (%s, %s)\"\n",
    "values = [(\"Krish\", \"Stats\"),\n",
    "        (\"Joe\", \"Maths\"),\n",
    "        (\"Ankur\",\"Data Science\"),\n",
    "        (\"Paul\",\"Data Science\"),\n",
    "        (\"Vishal\",\"Maths\"),\n",
    "        (\"Krish\",\"Data Science\")]\n",
    "cursor.executemany(query,values)\n",
    "print(\"Row inserted\",cursor.lastrowid)"
   ]
  },
  {
   "cell_type": "markdown",
   "id": "b511e284",
   "metadata": {},
   "source": [
    "#### Select All\n"
   ]
  },
  {
   "cell_type": "code",
   "execution_count": 13,
   "id": "9e6af127",
   "metadata": {},
   "outputs": [],
   "source": [
    "cursor = connection.cursor()\n",
    "cursor.execute(\"Select * from manuinfo\")"
   ]
  },
  {
   "cell_type": "code",
   "execution_count": 14,
   "id": "6d4cd04f",
   "metadata": {},
   "outputs": [
    {
     "data": {
      "text/plain": [
       "[(1, 'rohit', 'math'),\n",
       " (2, 'Krish', 'Stats'),\n",
       " (3, 'Joe', 'Maths'),\n",
       " (4, 'Ankur', 'Data Science'),\n",
       " (5, 'Paul', 'Data Science'),\n",
       " (6, 'Vishal', 'Maths'),\n",
       " (7, 'Krish', 'Data Science')]"
      ]
     },
     "execution_count": 14,
     "metadata": {},
     "output_type": "execute_result"
    }
   ],
   "source": [
    "### Fetch All the Data\n",
    "cursor.fetchall()"
   ]
  },
  {
   "cell_type": "code",
   "execution_count": 19,
   "id": "2e1f663d",
   "metadata": {},
   "outputs": [],
   "source": [
    "### Fetch One Record At A time\n",
    "cursor.fetchone()"
   ]
  },
  {
   "cell_type": "markdown",
   "id": "209aef7c",
   "metadata": {},
   "source": [
    "#### Selecting Particular Rows\n"
   ]
  },
  {
   "cell_type": "code",
   "execution_count": 20,
   "id": "bacb0e6f",
   "metadata": {},
   "outputs": [],
   "source": [
    "cursor.execute(\"Select * from manuinfo where name='Ankur'\")"
   ]
  },
  {
   "cell_type": "code",
   "execution_count": 21,
   "id": "68c0ab25",
   "metadata": {},
   "outputs": [
    {
     "data": {
      "text/plain": [
       "[(4, 'Ankur', 'Data Science')]"
      ]
     },
     "execution_count": 21,
     "metadata": {},
     "output_type": "execute_result"
    }
   ],
   "source": [
    "### Fetch All the Data\n",
    "cursor.fetchall()"
   ]
  },
  {
   "cell_type": "markdown",
   "id": "c8eb6d4b",
   "metadata": {},
   "source": [
    "#### Select Particular Columns\n"
   ]
  },
  {
   "cell_type": "code",
   "execution_count": 22,
   "id": "7be0c272",
   "metadata": {},
   "outputs": [
    {
     "data": {
      "text/plain": [
       "[('math',),\n",
       " ('Stats',),\n",
       " ('Maths',),\n",
       " ('Data Science',),\n",
       " ('Data Science',),\n",
       " ('Maths',),\n",
       " ('Data Science',)]"
      ]
     },
     "execution_count": 22,
     "metadata": {},
     "output_type": "execute_result"
    }
   ],
   "source": [
    "cursor.execute(\"Select subject from manuinfo\")\n",
    "#### Fetch All\n",
    "cursor.fetchall()"
   ]
  },
  {
   "cell_type": "code",
   "execution_count": 23,
   "id": "c9745750",
   "metadata": {},
   "outputs": [
    {
     "data": {
      "text/plain": [
       "[('math',), ('Stats',), ('Maths',), ('Data Science',)]"
      ]
     },
     "execution_count": 23,
     "metadata": {},
     "output_type": "execute_result"
    }
   ],
   "source": [
    "## Select Distinct Columns\n",
    "cursor.execute(\"SELECT DISTINCT subject from manuinfo\")\n",
    "#### Fetch All\n",
    "cursor.fetchall()"
   ]
  },
  {
   "cell_type": "code",
   "execution_count": 24,
   "id": "c3e0a696",
   "metadata": {},
   "outputs": [
    {
     "data": {
      "text/plain": [
       "[('Krish', 'Stats'),\n",
       " ('Ankur', 'Data Science'),\n",
       " ('Paul', 'Data Science'),\n",
       " ('Krish', 'Data Science')]"
      ]
     },
     "execution_count": 24,
     "metadata": {},
     "output_type": "execute_result"
    }
   ],
   "source": [
    "cursor.execute(\"SELECT name, subject FROM manuinfo WHERE name = 'Krish' OR subject = 'Data Science'\") \n",
    "#### Fetch All\n",
    "cursor.fetchall()"
   ]
  },
  {
   "cell_type": "markdown",
   "id": "1cc4674a",
   "metadata": {},
   "source": [
    "#### Drop Table\n"
   ]
  },
  {
   "cell_type": "code",
   "execution_count": 25,
   "id": "2f75b425",
   "metadata": {},
   "outputs": [],
   "source": [
    "#delete all tables\n",
    "cursor.execute(\"DROP TABLE manuinfo\")\n"
   ]
  },
  {
   "cell_type": "code",
   "execution_count": null,
   "id": "05cbb4ed",
   "metadata": {},
   "outputs": [],
   "source": []
  }
 ],
 "metadata": {
  "kernelspec": {
   "display_name": "Python 3",
   "language": "python",
   "name": "python3"
  },
  "language_info": {
   "codemirror_mode": {
    "name": "ipython",
    "version": 3
   },
   "file_extension": ".py",
   "mimetype": "text/x-python",
   "name": "python",
   "nbconvert_exporter": "python",
   "pygments_lexer": "ipython3",
   "version": "3.8.8"
  }
 },
 "nbformat": 4,
 "nbformat_minor": 5
}
