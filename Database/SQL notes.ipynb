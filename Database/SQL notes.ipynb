{
 "cells": [
  {
   "cell_type": "markdown",
   "id": "fb578e78",
   "metadata": {},
   "source": [
    "### 1.Data Definition Language(DDL)"
   ]
  },
  {
   "cell_type": "code",
   "execution_count": 2,
   "id": "4e77106d",
   "metadata": {},
   "outputs": [
    {
     "ename": "SyntaxError",
     "evalue": "invalid syntax (<ipython-input-2-bf3f88365f0b>, line 2)",
     "output_type": "error",
     "traceback": [
      "\u001b[1;36m  File \u001b[1;32m\"<ipython-input-2-bf3f88365f0b>\"\u001b[1;36m, line \u001b[1;32m2\u001b[0m\n\u001b[1;33m    CREATE TABLE employee(emp_id int, first_name varchar(20), last_name varchar(20), salary int, primary key(emp_id));\u001b[0m\n\u001b[1;37m           ^\u001b[0m\n\u001b[1;31mSyntaxError\u001b[0m\u001b[1;31m:\u001b[0m invalid syntax\n"
     ]
    }
   ],
   "source": [
    "\n",
    "# create table\n",
    "CREATE TABLE employee(emp_id int, first_name varchar(20), last_name varchar(20), salary int, primary key(emp_id));\n",
    "select * from employee;  # show the table \n",
    "describe employee;       # show logical structural of table\n",
    "\n",
    "## add new column in table\n",
    "ALTER TABLE employee ADD COLUMN contact int(10);\n",
    "describe employee;\n",
    "\n",
    "## Rename the column\n",
    "ALTER TABLE employee RENAME COLUMN contact to pin_code;\n",
    "describe employee;\n",
    "\n",
    "## truncate table\n",
    "TRUNCATE TABLE employee;    # delete all table\n",
    "\n",
    "## drop\n",
    "DROP TABLE employee;\n"
   ]
  },
  {
   "cell_type": "markdown",
   "id": "492cd4cb",
   "metadata": {},
   "source": [
    "### 2. Data Manipulation Language (DML)"
   ]
  },
  {
   "cell_type": "code",
   "execution_count": 1,
   "id": "1fa38ee9",
   "metadata": {},
   "outputs": [
    {
     "ename": "SyntaxError",
     "evalue": "invalid syntax (<ipython-input-1-23e4622c0f93>, line 2)",
     "output_type": "error",
     "traceback": [
      "\u001b[1;36m  File \u001b[1;32m\"<ipython-input-1-23e4622c0f93>\"\u001b[1;36m, line \u001b[1;32m2\u001b[0m\n\u001b[1;33m    CREATE TABLE employee(emp_id int, first_name VARCHAR(20), last_name VARCHAR(20), salary int, primary key(emp_id));\u001b[0m\n\u001b[1;37m           ^\u001b[0m\n\u001b[1;31mSyntaxError\u001b[0m\u001b[1;31m:\u001b[0m invalid syntax\n"
     ]
    }
   ],
   "source": [
    "## Insert data\n",
    "CREATE TABLE employee(emp_id int, first_name VARCHAR(20), last_name VARCHAR(20), salary int, primary key(emp_id));\n",
    "INSERT INTO employee(emp_id, first_name,last_name,salary) VALUES(101, \"Steven\", \"King\", 10000);\n",
    "INSERT INTO employee(emp_id, first_name,last_name,salary) VALUES(102, \"Edwin\", \"Thomas\", 15000);\n",
    "INSERT INTO employee(emp_id, first_name,last_name,salary) VALUES(103, \"Harry\", \"Pottor\", 20000);\n",
    "INSERT INTO employee(emp_id, first_name,last_name,salary) VALUES(104, \"Charlie\", \"sheen\",30000);\n",
    "INSERT INTO employee(emp_id, first_name,last_name,salary) VALUES(105, \"matt\", \"demon\", 45000);\n",
    "INSERT INTO employee(emp_id, first_name,last_name,salary) VALUES(106, \"jenifier\", \"lopez\", 50000);\n",
    "\n",
    "select * from employee;\n",
    "\n",
    "## update\n",
    "UPDATE employee SET last_name=\"vishwa\" WHERE emp_id=102;   # update the name \"thomas\" to \"vishwa\"\n",
    "select * from employee;\n",
    "\n",
    "## delete command\n",
    "DELETE FROM employee WHERE emp_id IN (101,103);  # delete 101 and 103 rows"
   ]
  },
  {
   "cell_type": "markdown",
   "id": "f7fce7e6",
   "metadata": {},
   "source": [
    "### 3. Data Control Language(DCL)"
   ]
  },
  {
   "cell_type": "code",
   "execution_count": 2,
   "id": "9b90ab28",
   "metadata": {},
   "outputs": [
    {
     "ename": "SyntaxError",
     "evalue": "invalid syntax (<ipython-input-2-e081ee3c17d3>, line 2)",
     "output_type": "error",
     "traceback": [
      "\u001b[1;36m  File \u001b[1;32m\"<ipython-input-2-e081ee3c17d3>\"\u001b[1;36m, line \u001b[1;32m2\u001b[0m\n\u001b[1;33m    GRANT <Privilege list> ON <Relation Name> TO <USER>\u001b[0m\n\u001b[1;37m                     ^\u001b[0m\n\u001b[1;31mSyntaxError\u001b[0m\u001b[1;31m:\u001b[0m invalid syntax\n"
     ]
    }
   ],
   "source": [
    "## Grant\n",
    "GRANT <Privilege list> ON <Relation Name> TO <USER>\n",
    "\n",
    "# Revoke\n",
    "REVOKE <Privilege list> ON <Relation Name> TO <USER>"
   ]
  },
  {
   "cell_type": "markdown",
   "id": "4078eb7f",
   "metadata": {},
   "source": [
    "### 4. SQL Operators"
   ]
  },
  {
   "cell_type": "code",
   "execution_count": 3,
   "id": "303f41a8",
   "metadata": {},
   "outputs": [
    {
     "ename": "SyntaxError",
     "evalue": "invalid syntax (<ipython-input-3-de49866e3eed>, line 2)",
     "output_type": "error",
     "traceback": [
      "\u001b[1;36m  File \u001b[1;32m\"<ipython-input-3-de49866e3eed>\"\u001b[1;36m, line \u001b[1;32m2\u001b[0m\n\u001b[1;33m    used to specify a condition while fetching the data or by joininig with multiple tables.\u001b[0m\n\u001b[1;37m         ^\u001b[0m\n\u001b[1;31mSyntaxError\u001b[0m\u001b[1;31m:\u001b[0m invalid syntax\n"
     ]
    }
   ],
   "source": [
    "1.## WHERE\n",
    "used to specify a condition while fetching the data or by joininig with multiple tables.\n",
    "Not only used in SELECT statement , but it is also used in the UPDATE, DELETE statement etc.\n",
    "\n",
    "SELECT * FROM employee WHERE emp_id = 101;     # get only 101 emp_id rows\n",
    "\n",
    "2. ## Logical operator\n",
    "\n",
    "AND      (5<2) AND (5>3)      False\n",
    "OR       (5<2) OR (5>3)       True\n",
    "NOT      NOT(5<2)             True\n",
    "\n",
    "SELECT * From employee WHERE first_name = \"Steven\" and salary = 10000;\n",
    "\n",
    "SELECT * From employee WHERE first_name = \"Steven\" OR last_name = \"King\";\n",
    "\n",
    "SELECT * From employee WHERE first_name = \"Steven\" and salary != 10000;\n",
    "\n",
    "3. ## Comparison operator\n",
    "\n",
    "> greater than, >= greater than or equal to, < less than , <= less than or equal to, <> or != NOT equal to\n",
    "\n",
    "SELECT * From employee WHERE salary <= 30000;\n",
    "\n",
    "4. ## Special operator\n",
    "\n",
    "BETWEEN     checks an attribute value within range\n",
    "LIKE        Checks an attribute value matches a given string pattern\n",
    "IS NULL     checks an attributes value is NULL\n",
    "IN          checks an attributes value matches any value within a value list\n",
    "DISTINCT    Limit values to unique values\n",
    "\n",
    "SELECT * From employee WHERE salary between 10000 and 30000;\n",
    "\n",
    "SELECT * From employee WHERE first_name like \"Steven\";\n",
    "\n",
    "SELECT * From employee WHERE salary is null;\n",
    "\n",
    "SELECT * From employee WHERE salary in (10000, 30000, 45000);\n",
    "\n",
    "SELECT DISTINCT (first_name) from employee;     # give only first_name of all the rows\n",
    "\n",
    "5. ## Aggregation operators\n",
    "\n",
    "Avg()     Return the average value from specified columns\n",
    "count()   Returns number of table rows\n",
    "Max()     Return Largest value among the records\n",
    "MIN()     Return smallest value amoung the records\n",
    "Sum()     Returns the sum of specified column values\n",
    "\n",
    "SELECT avg(salary) FROM employee;\n",
    "\n",
    "SELECT Count(salary) FROM employee;\n",
    "\n",
    "SELECT Max(salary) FROM employee;\n",
    "\n",
    "SELECT Min(salary) FROM employee;\n",
    "\n",
    "SELECT Sum(salary) FROM employee;\n"
   ]
  },
  {
   "cell_type": "markdown",
   "id": "e5ca0482",
   "metadata": {},
   "source": [
    "### 5. Group BY Clause, Having, order by"
   ]
  },
  {
   "cell_type": "code",
   "execution_count": 5,
   "id": "96732a2b",
   "metadata": {},
   "outputs": [
    {
     "ename": "SyntaxError",
     "evalue": "invalid syntax (<ipython-input-5-aac81a5dab0d>, line 1)",
     "output_type": "error",
     "traceback": [
      "\u001b[1;36m  File \u001b[1;32m\"<ipython-input-5-aac81a5dab0d>\"\u001b[1;36m, line \u001b[1;32m1\u001b[0m\n\u001b[1;33m    CREATE TABLE employee(emp_id int, first_name VARCHAR(20), last_name VARCHAR(20), salary int, dept varchar(20),\u001b[0m\n\u001b[1;37m           ^\u001b[0m\n\u001b[1;31mSyntaxError\u001b[0m\u001b[1;31m:\u001b[0m invalid syntax\n"
     ]
    }
   ],
   "source": [
    "CREATE TABLE employee(emp_id int, first_name VARCHAR(20), last_name VARCHAR(20), salary int, dept varchar(20),\n",
    "                      primary key(emp_id));\n",
    "INSERT INTO employee(emp_id, first_name,last_name,salary,dept) VALUES(101, \"Steven\", \"King\", 10000,\"sales\");\n",
    "INSERT INTO employee(emp_id, first_name,last_name,salary,dept) VALUES(102, \"Edwin\", \"Thomas\", 15000,\"tech\");\n",
    "INSERT INTO employee(emp_id, first_name,last_name,salary,dept) VALUES(103, \"Harry\", \"Pottor\", 20000,\"sales\");\n",
    "INSERT INTO employee(emp_id, first_name,last_name,salary,dept) VALUES(104, \"Charlie\", \"sheen\",30000,\"marketing\");\n",
    "INSERT INTO employee(emp_id, first_name,last_name,salary,dept) VALUES(105, \"matt\", \"demon\", 45000,\"tech\");\n",
    "INSERT INTO employee(emp_id, first_name,last_name,salary,dept) VALUES(106, \"jenifier\", \"lopez\",50000,\"support\");\n",
    "\n",
    "## Group by\n",
    "SELECT first_name, max(salary), dept  from employee group by dept;\n",
    "\n",
    "## having\n",
    "SELECT first_name, max(salary), dept  from employee group by dept having count(dept)>=2;\n",
    "\n",
    "## order by\n",
    "-used to sort output of select statement\n",
    "-Default is to sort in ASC (Ascennding)\n",
    "-Can sort in Reverse (Descending) order with \"DESC\" after the column name.\n",
    "\n",
    "SELECT * from employee order by salary desc;   # salary column will come in decending order\n"
   ]
  },
  {
   "cell_type": "code",
   "execution_count": null,
   "id": "aac9fdb2",
   "metadata": {},
   "outputs": [],
   "source": [
    "### excercise\n",
    "\n",
    "CREATE TABLE dataofcustomer(\n",
    "custid VARCHAR(6)  PRIMARY KEY,\n",
    "fname VARCHAR(50),\n",
    "mname VARCHAR(30),\n",
    "ltname VARCHAR(30),\n",
    "city VARCHAR(15),\n",
    "age int(10),\n",
    "mobileno VARCHAR(10),\n",
    "occupation VARCHAR(10),\n",
    "dob DATE\n",
    ");\n",
    "INSERT INTO dataofcustomer VALUES('C00001','Ramesh','Chandra','Sharma','Delhi',45,'9543198345','Service','1976-12-06');\n",
    "INSERT INTO dataofcustomer VALUES('C00002','Avinash','Sunder','Minha','Delhi',32,'9876532109','Service','1974-10-16');\n",
    "INSERT INTO dataofcustomer VALUES('C00003','Rahul',null,'Rastogi','Delhi',24,'9765178901','Student','1981-09-26');\n",
    "INSERT INTO dataofcustomer VALUES('C00004','Parul',null,'Gandhi','Delhi',46,'9876532109','Housewife','1976-11-03');\n",
    "INSERT INTO dataofcustomer VALUES('C00005','Naveen','Chandra','Aedekar','Mumbai',23,'8976523190','Service','1976-09-19');\n",
    "INSERT INTO dataofcustomer VALUES('C00006','Chitresh',null,'Barwe','Mumbai',18,'7651298321','Student','1992-11-06');\n",
    "INSERT INTO dataofcustomer VALUES('C00007','Amit','Kumar','Borkar','Mumbai',76,'9875189761','Student','1981-09-06');\n",
    "INSERT INTO dataofcustomer VALUES('C00008','Nisha',null,'Damle','Mumbai',43,'7954198761','Service','1975-12-03');\n",
    "INSERT INTO dataofcustomer VALUES('C00009','Abhishek',null,'Dutta','Kolkata',67,'9856198761','Service','1973-05-22');\n",
    "INSERT INTO dataofcustomer  VALUES('C00010','Shankar',null,'Nair','Chennai',90,'8765489076','Service','1976-07-12'); \n",
    "\n",
    "select * from dataofcustomer;\n",
    "select min(age) from dataofcustomer;\n",
    "select fname from dataofcustomer where age = 18;\n",
    "select max(age)  from dataofcustomer;\n",
    "select fname from dataofcustomer where age = 90;\n",
    "select  count(*) from dataofcustomer;              # how many data in table\n",
    "select count(fname),city from dataofcustomer group by city;\n",
    "\n",
    "\n",
    "select count(fname),city from dataofcustomer group by city having count(fname)>2;\n",
    "select count(fname),city from dataofcustomer group by city having count(fname)=2;\n",
    "select count(fname),city from dataofcustomer group by city having count(fname)>2;\n",
    "select count(fname),city from dataofcustomer group by city having count(fname)<2;\n",
    "select count(fname),city from dataofcustomer group by city having count(fname)!=4;"
   ]
  },
  {
   "cell_type": "markdown",
   "id": "028f3ac0",
   "metadata": {},
   "source": [
    "### 6. UNION"
   ]
  },
  {
   "cell_type": "code",
   "execution_count": 6,
   "id": "c49ce190",
   "metadata": {},
   "outputs": [
    {
     "ename": "SyntaxError",
     "evalue": "invalid syntax (<ipython-input-6-e5e16098d9d3>, line 4)",
     "output_type": "error",
     "traceback": [
      "\u001b[1;36m  File \u001b[1;32m\"<ipython-input-6-e5e16098d9d3>\"\u001b[1;36m, line \u001b[1;32m4\u001b[0m\n\u001b[1;33m    CREATE TABLE product1(category_id int, product_name VARCHAR(20));\u001b[0m\n\u001b[1;37m           ^\u001b[0m\n\u001b[1;31mSyntaxError\u001b[0m\u001b[1;31m:\u001b[0m invalid syntax\n"
     ]
    }
   ],
   "source": [
    "1. ## UNION\n",
    "\n",
    "#product1\n",
    "CREATE TABLE product1(category_id int, product_name VARCHAR(20));\n",
    "\n",
    "INSERT INTO product1 VALUES(1, \"sumsung\");\n",
    "INSERT INTO product1 VALUES(2, \"nokia\");\n",
    "INSERT INTO product1 VALUES(3, \"hp\");\n",
    "INSERT INTO product1 VALUES(5, \"nikon\");\n",
    "\n",
    "#product 2\n",
    "CREATE TABLE product2(category_id int, product_name VARCHAR(20));\n",
    "\n",
    "INSERT INTO product2 VALUES(1, \"nokia\");\n",
    "INSERT INTO product2 VALUES(2, \"LG\");\n",
    "INSERT INTO product2 VALUES(3, \"hp\");\n",
    "INSERT INTO product2 VALUES(4, \"dell\");\n",
    "INSERT INTO product2 VALUES(6, \"apple\");\n",
    "INSERT INTO product2 VALUES(7, \"lenovo\");\n",
    "\n",
    "# get union value of both product\n",
    "SELECT product_name from product1\n",
    "union\n",
    "select product_name from product2;\n",
    "\n",
    "2. ## UNION ALL\n",
    "SELECT product_name from product1\n",
    "union\n",
    "select product_name from product2;"
   ]
  },
  {
   "cell_type": "markdown",
   "id": "c2263f36",
   "metadata": {},
   "source": [
    "### 7. SQL Joins"
   ]
  },
  {
   "cell_type": "code",
   "execution_count": null,
   "id": "ab4cae1f",
   "metadata": {},
   "outputs": [],
   "source": [
    "Combine rows/columns from two or more tables, based on a related column between them in a database.\n",
    "\n",
    "\n",
    "\n",
    "CREATE TABLE employee(emp_id int, first_name VARCHAR(20), last_name VARCHAR(20), salary int, dept varchar(20),\n",
    "                      primary key(emp_id));\n",
    "INSERT INTO employee(emp_id, first_name,last_name,salary,dept) VALUES(101, \"Steven\", \"King\", 10000,\"sales\");\n",
    "INSERT INTO employee(emp_id, first_name,last_name,salary,dept) VALUES(102, \"Edwin\", \"Thomas\", 15000,\"tech\");\n",
    "INSERT INTO employee(emp_id, first_name,last_name,salary,dept) VALUES(103, \"Harry\", \"Pottor\", 20000,\"hr\");\n",
    "INSERT INTO employee(emp_id, first_name,last_name,salary,dept) VALUES(104, \"Charlie\", \"sheen\",30000,\"marketing\");\n",
    "INSERT INTO employee(emp_id, first_name,last_name,salary,dept) VALUES(105, \"matt\", \"demon\", 45000,\"tech\");\n",
    "INSERT INTO employee(emp_id, first_name,last_name,salary,dept) VALUES(106, \"jenifier\", \"lopez\",50000,\"support\");\n",
    "\n",
    "CREATE TABLE department(dept_id int, dept VARCHAR(20), dept_loc varchar(20));\n",
    "INSERT INTO department VALUES(1, \"content\", \"chicago\");\n",
    "INSERT INTO department VALUES(2, \"support\", \"new jearsey\");\n",
    "INSERT INTO department VALUES(3, \"sales\", \"bostan\");\n",
    "INSERT INTO department VALUES(4, \"hr\", \"chicago\");\n",
    "INSERT INTO department VALUES(5, \"operation\", \"new york\");\n",
    "\n",
    "## Inner join\n",
    "select e.first_name,e.salary,d.dept,d.dept_loc\n",
    "from employee e\n",
    "inner join department d\n",
    "on e.dept=d.dept;\n",
    "\n",
    "## Left join\n",
    "select e.first_name,e.salary,d.dept,d.dept_loc\n",
    "from employee e\n",
    "left join department d\n",
    "on e.dept=d.dept;\n",
    "\n",
    "## Right join\n",
    "select e.first_name,e.salary,d.dept,d.dept_loc\n",
    "from employee e\n",
    "right join department d\n",
    "on e.dept=d.dept;\n",
    "\n",
    "## full outer join\n",
    "select e.first_name,e.salary,d.dept,d.dept_loc\n",
    "from employee e\n",
    "left join department d\n",
    "on e.dept=d.dept\n",
    "union\n",
    "select e.first_name,e.salary,d.dept,d.dept_loc\n",
    "from employee e\n",
    "right join department d\n",
    "on e.dept=d.dept;\n",
    "\n",
    "## cross join\n",
    "select * from employee cross join department;"
   ]
  }
 ],
 "metadata": {
  "kernelspec": {
   "display_name": "Python 3",
   "language": "python",
   "name": "python3"
  },
  "language_info": {
   "codemirror_mode": {
    "name": "ipython",
    "version": 3
   },
   "file_extension": ".py",
   "mimetype": "text/x-python",
   "name": "python",
   "nbconvert_exporter": "python",
   "pygments_lexer": "ipython3",
   "version": "3.8.8"
  }
 },
 "nbformat": 4,
 "nbformat_minor": 5
}
