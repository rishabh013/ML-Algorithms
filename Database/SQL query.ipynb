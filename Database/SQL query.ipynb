{
 "cells": [
  {
   "cell_type": "code",
   "execution_count": null,
   "id": "e76cc5d5",
   "metadata": {},
   "outputs": [],
   "source": [
    "# ADD columns\n",
    "ALTER TABLE ml.web_data ADD COLUMN extracted_by VARCHAR ;\n",
    "\n",
    "## ADD columns defaulr boolean\n",
    "ALTER TABLE ml.web_data ADD COLUMN mobile_matching BOOLEAN DEFAULT FALSE ;\n",
    "ALTER TABLE ml.web_data ADD COLUMN mobile_matching VARCHAR(20);\n",
    "\n",
    "\n",
    "## Rename column\n",
    "ALTER TABLE ml.web_data RENAME COLUMN mobile_match  to mobile_matching ;\n",
    "\n",
    "## change types ( int to str)\n",
    "ALTER TABLE ml.inquiry_data ALTER COLUMN mobile TYPE VARCHAR(10) ;\n",
    "\n",
    "## Update\n",
    "UPDATE ml.web_data SET mobile_matching = True where mobile_match = 'Yes' ;\n",
    "\n",
    "## Drop columns\n",
    "ALTER TABLE ml.web_data DROP COLUMN mobile_match ;\n",
    "\n",
    "## Change column length\n",
    "ALTER TABLE ml.web_data ALTER COLUMN contact_person TYPE VARCHAR(40) ;\n",
    "\n",
    "## The basic syntax of ALTER TABLE to ADD UNIQUE CONSTRAINT to a table is as\n",
    "ALTER  TABLE table_name ADD CONSTRAINT myuniquecontraint UNIQUE(column1, column2,..) ;\n",
    "ALTER TABLE ml.web_data ADD CONSTRAINT company_contact_number_pincode UNIQUE (company_name,contact_number,pincode);\n",
    "\n",
    "## create column index postgresql:\n",
    "# A single-column index is one that is created based on only one table column\n",
    "CREATE INDEX  ON ml.ec_rfm_tim(profile_id) ;\n",
    "\n",
    "# Multiple column index\n",
    "CREATE INDEX index_name ON table_name(column1_name, column2_name) ;\n",
    "\n",
    "## DElete\n",
    "Delete from ml.web_data where extracted_by = 'Ayush' and generated = 1656077468 and  pincode = 0 ;\n",
    "\n",
    "## search all the table in ml schema\n",
    "\\dt *ml.*                           # archival\n",
    "\n",
    "\\dt *.*facebook*                    # "
   ]
  },
  {
   "cell_type": "code",
   "execution_count": null,
   "id": "d6d16a26",
   "metadata": {},
   "outputs": [],
   "source": [
    "ALTER TABLE ml.ec_rfm_tim RENAME COLUMN \"vintage(year)\"  to vintage_year ;"
   ]
  },
  {
   "cell_type": "code",
   "execution_count": null,
   "id": "09e4c4d8",
   "metadata": {},
   "outputs": [],
   "source": []
  },
  {
   "cell_type": "code",
   "execution_count": null,
   "id": "d62ca936",
   "metadata": {},
   "outputs": [],
   "source": [
    "# update query\n",
    "from datetime import date\n",
    "import os\n",
    "todays_date = date.today()\n",
    "day = todays_date.day\n",
    "month = todays_date.month\n",
    "\n",
    "file_name = 'keyword_update_'+str(day)+'_'+str(month)+'.csv'\n",
    "path_to_create = os.path.join(f'/mnt/data/rishabh/sqlanalysis/sql_new', file_name)\n",
    "\n",
    "for i in tqdm(range(d5.shape[0])):\n",
    "    if d5.iloc[i,2]==False:\n",
    "        data = d5.iloc[i]\n",
    "        query = f\"\"\"update ml.web_data\n",
    "        set keyword='{data['keyword']}', updated_at = {round(datetime.datetime.now().timestamp())}\n",
    "        where meteric_id = {data['deleted_metric_id']} \"\"\"\n",
    "        try:\n",
    "            with engine.connect() as con:\n",
    "                con.execute(sqlalchemy.text(query))\n",
    "            d5.iloc[i,2]=True\n",
    "            if i%100 == 0:\n",
    "                d5.to_csv(path_to_create, index = False)\n",
    "        except Exception as e:\n",
    "            print('x',e,end='')\n",
    "d5.to_csv(path_to_create, index = False)"
   ]
  },
  {
   "cell_type": "code",
   "execution_count": null,
   "id": "73497565",
   "metadata": {},
   "outputs": [],
   "source": [
    "# update query\n",
    "query = f\"\"\"update ml.web_data\n",
    "        set selected = True\n",
    "        where meteric_id in  \"\"\" + str(tuple(rest_of_data_insert.meteric_id)) + \"\"\" ; \"\"\"\n",
    "# print(query)\n",
    "with engine.connect() as con:\n",
    "    try:\n",
    "        con.execute(sqlalchemy.text(query))\n",
    "    except Exception as e:\n",
    "            print('x',e,end='')"
   ]
  },
  {
   "cell_type": "code",
   "execution_count": null,
   "id": "e86685f7",
   "metadata": {},
   "outputs": [],
   "source": [
    "# insert query\n",
    "with engine.connect() as con:\n",
    "    try:\n",
    "        rest_of_data_insert.to_sql('web_data', con, schema='ml', if_exists='append', index=False, index_label=None, chunksize=None, dtype=None, method=None)    \n",
    "    except sqlalchemy.exc.StatementError as e:\n",
    "        print('Error occured while executing a query {}'.format(e.args))\n",
    "    except:\n",
    "        print ('Some error occured while insertion ')"
   ]
  },
  {
   "cell_type": "code",
   "execution_count": null,
   "id": "cd6839b4",
   "metadata": {},
   "outputs": [],
   "source": [
    "# Delete query\n",
    "query = f\"\"\" Delete from ml.web_data\n",
    "        where meteric_id in  {tuple(d.meteric_id)} \"\"\"\n",
    "print(query)\n",
    "with engine.connect() as con:\n",
    "    try:\n",
    "        con.execute(sqlalchemy.text(query))\n",
    "    except Exception as e:\n",
    "            print('x',e,end='')"
   ]
  }
 ],
 "metadata": {
  "kernelspec": {
   "display_name": "Python 3",
   "language": "python",
   "name": "python3"
  },
  "language_info": {
   "codemirror_mode": {
    "name": "ipython",
    "version": 3
   },
   "file_extension": ".py",
   "mimetype": "text/x-python",
   "name": "python",
   "nbconvert_exporter": "python",
   "pygments_lexer": "ipython3",
   "version": "3.8.10"
  }
 },
 "nbformat": 4,
 "nbformat_minor": 5
}
